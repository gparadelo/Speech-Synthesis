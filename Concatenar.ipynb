{
 "cells": [
  {
   "cell_type": "code",
   "execution_count": 13,
   "metadata": {},
   "outputs": [],
   "source": [
    "import os\n",
    "from subprocess import Popen, PIPE\n",
    "\n",
    "PRAAT= '/usr/bin/praat'\n",
    "\n",
    "def run_praat(script_file):\n",
    "    args= [PRAAT, '--run', script_file]\n",
    "    Popen(args, stdout=PIPE)"
   ]
  },
  {
   "cell_type": "markdown",
   "metadata": {},
   "source": [
    "Lista de archivos de audio - concatenar audio y escribir a archivo"
   ]
  },
  {
   "cell_type": "code",
   "execution_count": 14,
   "metadata": {},
   "outputs": [
    {
     "ename": "FileNotFoundError",
     "evalue": "[Errno 2] No such file or directory: '/usr/bin/praat': '/usr/bin/praat'",
     "output_type": "error",
     "traceback": [
      "\u001b[0;31m---------------------------------------------------------------------------\u001b[0m",
      "\u001b[0;31mFileNotFoundError\u001b[0m                         Traceback (most recent call last)",
      "\u001b[0;32m<ipython-input-14-b07c8d38894a>\u001b[0m in \u001b[0;36m<module>\u001b[0;34m\u001b[0m\n\u001b[1;32m     19\u001b[0m     \u001b[0mrun_praat\u001b[0m\u001b[0;34m(\u001b[0m\u001b[0;34m\"concatenar.praat\"\u001b[0m\u001b[0;34m)\u001b[0m\u001b[0;34m\u001b[0m\u001b[0;34m\u001b[0m\u001b[0m\n\u001b[1;32m     20\u001b[0m \u001b[0;34m\u001b[0m\u001b[0m\n\u001b[0;32m---> 21\u001b[0;31m \u001b[0mprint\u001b[0m\u001b[0;34m(\u001b[0m\u001b[0moutput_audio\u001b[0m\u001b[0;34m(\u001b[0m\u001b[0;34m[\u001b[0m\u001b[0;34m\"/a/la.wav\"\u001b[0m\u001b[0;34m,\u001b[0m \u001b[0;34m\"/ja.wav\"\u001b[0m\u001b[0;34m,\u001b[0m \u001b[0;34m\"//////////ASDadhasf/////AE.WAV\"\u001b[0m\u001b[0;34m]\u001b[0m\u001b[0;34m,\u001b[0m \u001b[0;34m\"/homa/a/TP1/file.wav\"\u001b[0m\u001b[0;34m)\u001b[0m\u001b[0;34m)\u001b[0m\u001b[0;34m\u001b[0m\u001b[0;34m\u001b[0m\u001b[0m\n\u001b[0m",
      "\u001b[0;32m<ipython-input-14-b07c8d38894a>\u001b[0m in \u001b[0;36moutput_audio\u001b[0;34m(filenames, output_name)\u001b[0m\n\u001b[1;32m     17\u001b[0m         \u001b[0mcf\u001b[0m\u001b[0;34m.\u001b[0m\u001b[0mwrite\u001b[0m\u001b[0;34m(\u001b[0m\u001b[0mscript\u001b[0m\u001b[0;34m)\u001b[0m\u001b[0;34m\u001b[0m\u001b[0;34m\u001b[0m\u001b[0m\n\u001b[1;32m     18\u001b[0m \u001b[0;34m\u001b[0m\u001b[0m\n\u001b[0;32m---> 19\u001b[0;31m     \u001b[0mrun_praat\u001b[0m\u001b[0;34m(\u001b[0m\u001b[0;34m\"concatenar.praat\"\u001b[0m\u001b[0;34m)\u001b[0m\u001b[0;34m\u001b[0m\u001b[0;34m\u001b[0m\u001b[0m\n\u001b[0m\u001b[1;32m     20\u001b[0m \u001b[0;34m\u001b[0m\u001b[0m\n\u001b[1;32m     21\u001b[0m \u001b[0mprint\u001b[0m\u001b[0;34m(\u001b[0m\u001b[0moutput_audio\u001b[0m\u001b[0;34m(\u001b[0m\u001b[0;34m[\u001b[0m\u001b[0;34m\"/a/la.wav\"\u001b[0m\u001b[0;34m,\u001b[0m \u001b[0;34m\"/ja.wav\"\u001b[0m\u001b[0;34m,\u001b[0m \u001b[0;34m\"//////////ASDadhasf/////AE.WAV\"\u001b[0m\u001b[0;34m]\u001b[0m\u001b[0;34m,\u001b[0m \u001b[0;34m\"/homa/a/TP1/file.wav\"\u001b[0m\u001b[0;34m)\u001b[0m\u001b[0;34m)\u001b[0m\u001b[0;34m\u001b[0m\u001b[0;34m\u001b[0m\u001b[0m\n",
      "\u001b[0;32m<ipython-input-13-fbba084f85ef>\u001b[0m in \u001b[0;36mrun_praat\u001b[0;34m(script_file)\u001b[0m\n\u001b[1;32m      6\u001b[0m \u001b[0;32mdef\u001b[0m \u001b[0mrun_praat\u001b[0m\u001b[0;34m(\u001b[0m\u001b[0mscript_file\u001b[0m\u001b[0;34m)\u001b[0m\u001b[0;34m:\u001b[0m\u001b[0;34m\u001b[0m\u001b[0;34m\u001b[0m\u001b[0m\n\u001b[1;32m      7\u001b[0m     \u001b[0margs\u001b[0m\u001b[0;34m=\u001b[0m \u001b[0;34m[\u001b[0m\u001b[0mPRAAT\u001b[0m\u001b[0;34m,\u001b[0m \u001b[0;34m'--run'\u001b[0m\u001b[0;34m,\u001b[0m \u001b[0mscript_file\u001b[0m\u001b[0;34m]\u001b[0m\u001b[0;34m\u001b[0m\u001b[0;34m\u001b[0m\u001b[0m\n\u001b[0;32m----> 8\u001b[0;31m     \u001b[0mPopen\u001b[0m\u001b[0;34m(\u001b[0m\u001b[0margs\u001b[0m\u001b[0;34m,\u001b[0m \u001b[0mstdout\u001b[0m\u001b[0;34m=\u001b[0m\u001b[0mPIPE\u001b[0m\u001b[0;34m)\u001b[0m\u001b[0;34m\u001b[0m\u001b[0;34m\u001b[0m\u001b[0m\n\u001b[0m",
      "\u001b[0;32m/usr/lib/python3.6/subprocess.py\u001b[0m in \u001b[0;36m__init__\u001b[0;34m(self, args, bufsize, executable, stdin, stdout, stderr, preexec_fn, close_fds, shell, cwd, env, universal_newlines, startupinfo, creationflags, restore_signals, start_new_session, pass_fds, encoding, errors)\u001b[0m\n\u001b[1;32m    727\u001b[0m                                 \u001b[0mc2pread\u001b[0m\u001b[0;34m,\u001b[0m \u001b[0mc2pwrite\u001b[0m\u001b[0;34m,\u001b[0m\u001b[0;34m\u001b[0m\u001b[0;34m\u001b[0m\u001b[0m\n\u001b[1;32m    728\u001b[0m                                 \u001b[0merrread\u001b[0m\u001b[0;34m,\u001b[0m \u001b[0merrwrite\u001b[0m\u001b[0;34m,\u001b[0m\u001b[0;34m\u001b[0m\u001b[0;34m\u001b[0m\u001b[0m\n\u001b[0;32m--> 729\u001b[0;31m                                 restore_signals, start_new_session)\n\u001b[0m\u001b[1;32m    730\u001b[0m         \u001b[0;32mexcept\u001b[0m\u001b[0;34m:\u001b[0m\u001b[0;34m\u001b[0m\u001b[0;34m\u001b[0m\u001b[0m\n\u001b[1;32m    731\u001b[0m             \u001b[0;31m# Cleanup if the child failed starting.\u001b[0m\u001b[0;34m\u001b[0m\u001b[0;34m\u001b[0m\u001b[0;34m\u001b[0m\u001b[0m\n",
      "\u001b[0;32m/usr/lib/python3.6/subprocess.py\u001b[0m in \u001b[0;36m_execute_child\u001b[0;34m(self, args, executable, preexec_fn, close_fds, pass_fds, cwd, env, startupinfo, creationflags, shell, p2cread, p2cwrite, c2pread, c2pwrite, errread, errwrite, restore_signals, start_new_session)\u001b[0m\n\u001b[1;32m   1362\u001b[0m                         \u001b[0;32mif\u001b[0m \u001b[0merrno_num\u001b[0m \u001b[0;34m==\u001b[0m \u001b[0merrno\u001b[0m\u001b[0;34m.\u001b[0m\u001b[0mENOENT\u001b[0m\u001b[0;34m:\u001b[0m\u001b[0;34m\u001b[0m\u001b[0;34m\u001b[0m\u001b[0m\n\u001b[1;32m   1363\u001b[0m                             \u001b[0merr_msg\u001b[0m \u001b[0;34m+=\u001b[0m \u001b[0;34m': '\u001b[0m \u001b[0;34m+\u001b[0m \u001b[0mrepr\u001b[0m\u001b[0;34m(\u001b[0m\u001b[0merr_filename\u001b[0m\u001b[0;34m)\u001b[0m\u001b[0;34m\u001b[0m\u001b[0;34m\u001b[0m\u001b[0m\n\u001b[0;32m-> 1364\u001b[0;31m                     \u001b[0;32mraise\u001b[0m \u001b[0mchild_exception_type\u001b[0m\u001b[0;34m(\u001b[0m\u001b[0merrno_num\u001b[0m\u001b[0;34m,\u001b[0m \u001b[0merr_msg\u001b[0m\u001b[0;34m,\u001b[0m \u001b[0merr_filename\u001b[0m\u001b[0;34m)\u001b[0m\u001b[0;34m\u001b[0m\u001b[0;34m\u001b[0m\u001b[0m\n\u001b[0m\u001b[1;32m   1365\u001b[0m                 \u001b[0;32mraise\u001b[0m \u001b[0mchild_exception_type\u001b[0m\u001b[0;34m(\u001b[0m\u001b[0merr_msg\u001b[0m\u001b[0;34m)\u001b[0m\u001b[0;34m\u001b[0m\u001b[0;34m\u001b[0m\u001b[0m\n\u001b[1;32m   1366\u001b[0m \u001b[0;34m\u001b[0m\u001b[0m\n",
      "\u001b[0;31mFileNotFoundError\u001b[0m: [Errno 2] No such file or directory: '/usr/bin/praat': '/usr/bin/praat'"
     ]
    }
   ],
   "source": [
    "def output_audio(filenames, output_name):\n",
    "    script = \"\"\n",
    "    for f in filenames:\n",
    "        script += \"Read from file: \\\"\" + f +\"\\\" \\n\"\n",
    "\n",
    "    script += \"selectObject: \\\"Sound \" + filenames[0][-6:-4] +\"\\\" \\n\"\n",
    "    for f in filenames[1:]:\n",
    "        script += \"plusObject: \\\"Sound \" + f[-6:-4] +\"\\\" \\n\"\n",
    "    \n",
    "    script += \"Concatenate recoverably\\n\"\n",
    "    script += \"selectObject: \\\"Sound chain\\\"\\n\"\n",
    "    script += \"Write to WAV file: \\\"\" + output_name + \"\\\"\\n\"\n",
    "    script += \"Save as text file: \\\"\" + output_name + \".TextGrid\\\"\\n\"\n",
    "    \n",
    "    \n",
    "    with open(\"concatenar.praat\", \"w\") as cf:\n",
    "        cf.write(script)\n",
    "\n",
    "    run_praat(\"concatenar.praat\")\n",
    "\n",
    "print(output_audio([\"/a/la.wav\", \"/ja.wav\", \"//////////ASDadhasf/////AE.WAV\"], \"/homa/a/TP1/file.wav\"))"
   ]
  },
  {
   "cell_type": "code",
   "execution_count": 1,
   "metadata": {},
   "outputs": [
    {
     "name": "stdout",
     "output_type": "stream",
     "text": [
      "ERROR: invalid word. Try again.\n"
     ]
    },
    {
     "ename": "SystemExit",
     "evalue": "1",
     "output_type": "error",
     "traceback": [
      "An exception has occurred, use %tb to see the full traceback.\n",
      "\u001b[0;31mSystemExit\u001b[0m\u001b[0;31m:\u001b[0m 1\n"
     ]
    },
    {
     "name": "stderr",
     "output_type": "stream",
     "text": [
      "/usr/local/lib/python3.6/dist-packages/IPython/core/interactiveshell.py:3275: UserWarning: To exit: use 'exit', 'quit', or Ctrl-D.\n",
      "  warn(\"To exit: use 'exit', 'quit', or Ctrl-D.\", stacklevel=1)\n"
     ]
    }
   ],
   "source": [
    "import sys\n",
    "\n",
    "diphones = [\"-e\", \"-E\", \"-f\", \"-k\", \"-m\", \"-s\", \"-t\", \"e-\", \"E-\",\n",
    "           \"s-\", \"ee\", \"eE\", \"Ee\", \"EE\", \"fe\", \"fE\", \"ke\", \"kE\", \n",
    "           \"me\", \"mE\", \"se\", \"sE\", \"te\", \"tE\", \"re\", \"rE\", \"ef\",\n",
    "           \"Ef\", \"ek\", \"Ek\", \"em\", \"Em\", \"es\", \"Es\", \"et\", \"Et\",\n",
    "           \"er\", \"Er\", \"fr\", \"kr\", \"tr\", \"sf\", \"sk\", \"st\", \"ss\",\n",
    "           \"sm\"]\n",
    "prefixname = \"/home/user/ph/\"\n",
    "wavsufix = \".wav\"\n",
    "\n",
    "def diphone_list( word ):\n",
    "    diphone_list = []\n",
    "    word  = \"-\" + word + \"-\"\n",
    "    for i, _ in enumerate(word[:-1]):\n",
    "        diphone = word[i:i+2]\n",
    "        if not diphone in diphones:\n",
    "            print(\"ERROR: invalid word. Try again.\")\n",
    "            sys.exit(1)\n",
    "        diphone_list.append(diphone)\n",
    "\n",
    "    return list(map(lambda s: prefixname + s + wavsufix, diphone_list))\n",
    "\n",
    "diphone_list(\"exre\")    "
   ]
  },
  {
   "cell_type": "code",
   "execution_count": null,
   "metadata": {},
   "outputs": [],
   "source": []
  }
 ],
 "metadata": {
  "kernelspec": {
   "display_name": "Python 3",
   "language": "python",
   "name": "python3"
  },
  "language_info": {
   "codemirror_mode": {
    "name": "ipython",
    "version": 3
   },
   "file_extension": ".py",
   "mimetype": "text/x-python",
   "name": "python",
   "nbconvert_exporter": "python",
   "pygments_lexer": "ipython3",
   "version": "3.6.8"
  }
 },
 "nbformat": 4,
 "nbformat_minor": 2
}
