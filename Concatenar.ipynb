{
 "cells": [
  {
   "cell_type": "code",
   "execution_count": 878,
   "metadata": {},
   "outputs": [],
   "source": [
    "import sys\n",
    "import os\n",
    "from subprocess import Popen, PIPE\n",
    "import re\n",
    "import numpy as np"
   ]
  },
  {
   "cell_type": "code",
   "execution_count": 723,
   "metadata": {
    "jupyter": {
     "source_hidden": true
    }
   },
   "outputs": [],
   "source": [
    "PRAAT= '/usr/bin/praat'\n",
    "#PRAAT = 'D:\\Downloads\\praat6104_win64\\Praat.exe'\n",
    "\n",
    "diphone_folder = \"/home/aletg/ph-tp1/difonos/\"\n",
    "#diphone_folder = \"D:\\Documents\\Facu\\ph-tp1\\difonos\\\\\""
   ]
  },
  {
   "cell_type": "code",
   "execution_count": 724,
   "metadata": {
    "jupyter": {
     "source_hidden": true
    }
   },
   "outputs": [],
   "source": [
    "def run_praat(script_file, args):\n",
    "    args= [PRAAT, '--run', script_file, args]\n",
    "    p = Popen(args, stdout=PIPE)\n",
    "    p.wait()"
   ]
  },
  {
   "cell_type": "markdown",
   "metadata": {},
   "source": [
    "Lista de archivos de audio - concatenar audio y escribir a archivo"
   ]
  },
  {
   "cell_type": "code",
   "execution_count": 1124,
   "metadata": {
    "jupyter": {
     "source_hidden": true
    }
   },
   "outputs": [],
   "source": [
    "def concatenate(filenames, output_name):\n",
    "    script = \"\"\n",
    "    for i, f in enumerate(filenames):\n",
    "        script += \"Read from file: \\\"\" + f + \"\\\"\\n\"\n",
    "        script += \"selectObject: \\\"Sound \" + f[-6:-4] + \"\\\"\\n\"\n",
    "        script += \"Rename: \\\"\" + f[-6:-4] + str(i) + \"\\\"\\n\"\n",
    "\n",
    "    script += \"selectObject: \\\"Sound \" + filenames[0][-6:-4] + str(0) + \"\\\"\\n\"\n",
    "    for i, f in enumerate(filenames[1:]):\n",
    "        script += \"plusObject: \\\"Sound \" + f[-6:-4] + str(i+1) + \"\\\"\\n\"\n",
    "\n",
    "    script += \"Concatenate recoverably\\n\"\n",
    "    script += \"selectObject: \\\"Sound chain\\\"\\n\"\n",
    "    script += \"Write to WAV file: \\\"\" + output_name + \"\\\"\\n\"\n",
    "    script += \"Save as text file: \\\"\" + output_name + \".TextGrid\\\"\\n\"\n",
    "\n",
    "    with open(\"concatenar.praat\", \"w\") as cf:\n",
    "        cf.write(script)\n",
    "\n",
    "    run_praat(\"concatenar.praat\", \"\")\n",
    "    #os.remove(\"concatenar.praat\")"
   ]
  },
  {
   "cell_type": "markdown",
   "metadata": {},
   "source": [
    "Obtener lista de difonos a partir de una palabra"
   ]
  },
  {
   "cell_type": "code",
   "execution_count": 1091,
   "metadata": {},
   "outputs": [],
   "source": [
    "all_diphones = [\"-e\", \"-E\", \"-f\", \"-k\", \"-m\", \"-s\", \"-t\", \"e-\", \"E-\",\n",
    "           \"s-\", \"ee\", \"eE\", \"Ee\", \"EE\", \"fe\", \"fE\", \"ke\", \"kE\", \n",
    "           \"me\", \"mE\", \"se\", \"sE\", \"te\", \"tE\", \"re\", \"rE\", \"ef\",\n",
    "           \"Ef\", \"ek\", \"Ek\", \"em\", \"Em\", \"es\", \"Es\", \"et\", \"Et\",\n",
    "           \"er\", \"Er\", \"fr\", \"kr\", \"tr\", \"sf\", \"sk\", \"st\", \"ss\",\n",
    "           \"sm\"]\n",
    "\n",
    "wav = \".wav\"\n",
    "\n",
    "def diphone_list(word):\n",
    "    diphones = []\n",
    "    word  = \"-\" + word + \"-\"\n",
    "    for i, _ in enumerate(word[:-1]):\n",
    "        diphone = word[i:i+2]\n",
    "        if not diphone in all_diphones:\n",
    "            print(\"ERROR: invalid word. Try again.\")\n",
    "            sys.exit(1)\n",
    "        diphones.append(diphone)\n",
    "    print(diphones)\n",
    "    # agregar prefijo y sufijo\n",
    "    return diphones\n",
    "\n",
    "#list(map(lambda s: diphone_folder + s + wav, diphone_list))\n",
    "\n",
    "def diphone_to_path(diphone):\n",
    "    return diphone_folder + diphone + wav"
   ]
  },
  {
   "cell_type": "code",
   "execution_count": 1045,
   "metadata": {},
   "outputs": [],
   "source": [
    "pitch_start_range = 90\n",
    "pitch_end_range = 300\n",
    "\n",
    "def extract_pitch_track(filename):\n",
    "    args = \" \"\n",
    "    args += filename + \".wav \" + filename + \".PitchTier \" + str(pitch_start_range) + \" \" + str(pitch_end_range)\n",
    "    run_praat(\"extraer-pitch-track.praat\", args )\n",
    "\n",
    "def replace_pitch_track(inputSound, inputPitch, outSound):\n",
    "    args = \" \"\n",
    "    args += inputSound + \" \" + inputPitch + \" \" + outSound + \" \" + str(pitch_start_range) + \" \" + str(pitch_end_range)\n",
    "    run_praat(\"reemplazar-pitch-track.praat\", args )\n",
    "\n",
    "def modify_pitch_track( pitchTierIn, pitchTierOut, f=lambda p, t, pmin, pmax: 2*p ):\n",
    "    with open(pitchTierIn, 'r') as inF:\n",
    "        file = inF.read()\n",
    "\n",
    "    file = file.split(\"\\n\")\n",
    "    pmin = 300.0\n",
    "    pmax = 0.0\n",
    "    xmin = 5.0\n",
    "    xmax = -1.9\n",
    "    for line in file:\n",
    "        if \"number\" in line:\n",
    "            number = float(line[12:])\n",
    "            if number < xmin:\n",
    "                xmin = number\n",
    "            if number > xmax:\n",
    "                xmax = number\n",
    "        elif \"value\" in line:\n",
    "            pitch = float(line[12:])\n",
    "            if pitch < pmin:\n",
    "                pmin = pitch\n",
    "            if pitch > pmax:\n",
    "                pmax = pitch\n",
    "\n",
    "    with open(pitchTierOut, \"w\") as outF:\n",
    "        number = 0.0\n",
    "        for line in file:\n",
    "            if \"number\" in line:\n",
    "                number = float(line[12:])\n",
    "            elif \"value\" in line:\n",
    "                pitch = float(line[12:])\n",
    "                pitch = f(pitch, (number-xmin)/(xmax - xmin), pmin, pmax)\n",
    "                line = \"    value = \" + str(pitch)\n",
    "            outF.write(line + \"\\n\")"
   ]
  },
  {
   "cell_type": "code",
   "execution_count": 1005,
   "metadata": {},
   "outputs": [
    {
     "name": "stdout",
     "output_type": "stream",
     "text": [
      "0.0920104166666666\n",
      "1.5836770833333333\n"
     ]
    }
   ],
   "source": [
    "modify_pitch_track( \"./test/estemeketrefe.PitchTier\", \"./test/estemeketrefe_agudo.PitchTier\", lambda x, t, min, max: np.log(t+1)*x )"
   ]
  },
  {
   "cell_type": "code",
   "execution_count": 1188,
   "metadata": {},
   "outputs": [],
   "source": [
    "aux_folder = \"./aux/\"\n",
    "def tts(word, output_filename, pregunta):\n",
    "    diphones = diphone_list(word)\n",
    "    if not pregunta:\n",
    "        concatenate([diphone_to_path(d) for d in diphones], output_filename)\n",
    "    else:\n",
    "        i = 0\n",
    "        j = 0\n",
    "        output = []\n",
    "        while i < len(diphones):\n",
    "            if diphones[:-1] is not \"s-\" and i == len(diphones)-2 :\n",
    "                new_aux = folder_aux + \"a\" + str(j)\n",
    "                acum = [diphone_to_path(diphones[i]), diphone_to_path(diphones[i+1])]\n",
    "                mergear_y_variar(acum, new_aux, f_ascendente_300)\n",
    "                output.append(new_aux + wav)\n",
    "                break\n",
    "            elif diphones[:-1] is \"s-\" and i == len(diphones)-3:\n",
    "                new_aux = folder_aux + \"a\" + str(j)\n",
    "                acum = [diphone_to_path(diphones[i]), diphone_to_path(diphones[i+1])]\n",
    "                mergear_y_variar(acum, new_aux, f_ascendente_300)\n",
    "                output.append(new_aux + wav)\n",
    "                output.append(diphone_to_path(\"s-\"))\n",
    "                break\n",
    "            elif 'E' in diphones[i]:\n",
    "                new_aux = folder_aux + \"a\" + str(j)\n",
    "                acum = [diphone_to_path(diphones[i]), diphone_to_path(diphones[i+1])]\n",
    "                #if i+2 < len(diphones):\n",
    "                #    acum.append(diphone_to_path(diphones[i+2]))\n",
    "                #    i += 1\n",
    "                i += 1\n",
    "                mergear_y_variar(acum, new_aux, f_ascendente_300)\n",
    "                output.append(new_aux + wav)\n",
    "                j += 1\n",
    "            else:\n",
    "                output.append(diphone_to_path(diphones[i]))\n",
    "            i += 1\n",
    "        concatenate(output, output_filename)"
   ]
  },
  {
   "cell_type": "code",
   "execution_count": 1193,
   "metadata": {},
   "outputs": [
    {
     "name": "stdout",
     "output_type": "stream",
     "text": [
      "['-E', 'Es', 'se', 'em', 'me', 'ek', 'ke', 'et', 'tr', 'rE', 'Ef', 'fe', 'e-']\n",
      "['/home/aletg/ph-tp1/difonos/-E.wav', '/home/aletg/ph-tp1/difonos/Es.wav']\n",
      " ./aux/au.wav ./aux/au.PitchTier 90 300\n",
      "['/home/aletg/ph-tp1/difonos/rE.wav', '/home/aletg/ph-tp1/difonos/Ef.wav']\n",
      " ./aux/au.wav ./aux/au.PitchTier 90 300\n",
      "['/home/aletg/ph-tp1/difonos/fe.wav', '/home/aletg/ph-tp1/difonos/e-.wav']\n",
      " ./aux/au.wav ./aux/au.PitchTier 90 300\n"
     ]
    }
   ],
   "source": [
    "tts(\"EsemeketrEfe\", \"./prueba.wav\", True)"
   ]
  },
  {
   "cell_type": "code",
   "execution_count": 1192,
   "metadata": {},
   "outputs": [
    {
     "name": "stdout",
     "output_type": "stream",
     "text": [
      "['-f', 'fr', 're', 'es', 'sk', 'kE', 'Et', 'te', 'es', 'se', 'es', 's-']\n",
      "['/home/aletg/ph-tp1/difonos/kE.wav', '/home/aletg/ph-tp1/difonos/Et.wav']\n",
      " ./aux/au.wav ./aux/au.PitchTier 90 300\n",
      "['/home/aletg/ph-tp1/difonos/es.wav', '/home/aletg/ph-tp1/difonos/s-.wav']\n",
      " ./aux/au.wav ./aux/au.PitchTier 90 300\n"
     ]
    }
   ],
   "source": [
    "tts(\"freskEteses\", \"./prueba.wav\", True)"
   ]
  },
  {
   "cell_type": "code",
   "execution_count": 1179,
   "metadata": {},
   "outputs": [],
   "source": [
    "def variar_pitch(inF, outF, f):\n",
    "    extract_pitch_track( inF )\n",
    "    modify_pitch_track( inF + \".PitchTier\", outF + \".PitchTier\", f )\n",
    "    replace_pitch_track( inF + wav, outF + \".PitchTier\", outF + wav )\n",
    "\n",
    "def mergear_y_variar(lista_difonos, output, f):\n",
    "    aux = aux_folder + \"au\"\n",
    "    concatenate(lista_difonos, aux + wav)\n",
    "    print(lista_difonos)\n",
    "    variar_pitch(aux, output, f)\n",
    "    os.remove(aux + wav)\n",
    "    os.remove(aux + wav + \".TextGrid\")\n",
    "    os.remove(aux + \".PitchTier\")\n",
    "\n",
    "def f_ascendente_250(p, t, pmin, pmax):\n",
    "    maximo = 250\n",
    "    res = (np.log((2**(maximo/pmax)-2)*t + 2)/np.log(2))*p\n",
    "    return res\n",
    "\n",
    "def f_ascendente_300(p, t, pmin, pmax):\n",
    "    maximo = 350\n",
    "    res = (np.log((2**(maximo/pmax)-2)*t + 2)/np.log(2))*p\n",
    "    return res\n",
    "\n",
    "def f_ascendente250_300(p, t, pmin, pmax):\n",
    "    maximo = 300\n",
    "    minimo = 250\n",
    "    res = (np.log((2**(maximo/pmax)-2**(minimo/pmin))*t + 2**(minimo/pmin))/np.log(2))*p\n",
    "    return res\n",
    "\n",
    "def f_ascendente_300(p, t, pmin, pmax):\n",
    "    maximo = 300\n",
    "    res = (maximo-pmin)*t + pmin\n",
    "    #res = (np.log((2**(maximo)-2**(pmin))*t + 2**(pmin))/np.log(2))\n",
    "    return res"
   ]
  },
  {
   "cell_type": "code",
   "execution_count": 1127,
   "metadata": {},
   "outputs": [],
   "source": [
    "def test(word):\n",
    "    tts(word, \"./test/\" + word + \".wav\", False)\n",
    "    \n",
    "def test_dbg(list, name):\n",
    "    output_audio(list, \"./test/\" + name + \".wav\")    "
   ]
  },
  {
   "cell_type": "code",
   "execution_count": 1096,
   "metadata": {},
   "outputs": [
    {
     "name": "stdout",
     "output_type": "stream",
     "text": [
      "['-e', 'es', 'st', 'te', 'em', 'me', 'ek', 'ke', 'et', 'tr', 're', 'ef', 'fe', 'e-']\n",
      " ./test/estemeketrefe.wav ./test/estemeketrefe.PitchTier 90 300\n"
     ]
    }
   ],
   "source": [
    "test(\"estemeketrefe\")\n",
    "variar_pitch(\"./test/estemeketrefe\", \"./test/estemeketrefe_agudo\", f_ascendente250_300) #lambda x, t: np.log(t+1)*x)"
   ]
  },
  {
   "cell_type": "code",
   "execution_count": 1046,
   "metadata": {},
   "outputs": [
    {
     "name": "stdout",
     "output_type": "stream",
     "text": [
      " ./difonos_/-e.wav ./difonos_/-e.PitchTier 90 300\n",
      " ./difonos_/es.wav ./difonos_/es.PitchTier 90 300\n"
     ]
    }
   ],
   "source": [
    "variar_pitch(\"./difonos_/-e\", \"./difonos_/a\", f_ascendente_250) #lambda x, t: np.log(t+1)*x)\n",
    "\n",
    "variar_pitch(\"./difonos_/es\", \"./difonos_/as\", f_ascendente250_300) #lambda x, t: np.log(t+1)*x)\n",
    "\n",
    "output_audio([\"./difonos_/-e.wav\", \"./difonos_/es.wav\"], \"./difonos_/as.wav\")\n",
    "variar_pitch(\"./difonos_/as\", \"./difonos_/os\", f_ascendente_300)"
   ]
  },
  {
   "cell_type": "code",
   "execution_count": 1056,
   "metadata": {},
   "outputs": [
    {
     "name": "stdout",
     "output_type": "stream",
     "text": [
      " ./difonos_/as.wav ./difonos_/as.PitchTier 90 300\n"
     ]
    }
   ],
   "source": []
  },
  {
   "cell_type": "code",
   "execution_count": 1103,
   "metadata": {},
   "outputs": [],
   "source": [
    "output_audio([\"./difonos_/os.wav\", \"./difonos/se.wav\", \"./difonos/e-.wav\"], \"./a.wav\")"
   ]
  },
  {
   "cell_type": "code",
   "execution_count": 1110,
   "metadata": {},
   "outputs": [
    {
     "name": "stdout",
     "output_type": "stream",
     "text": [
      " ./aux/au.wav ./aux/au.PitchTier 90 300\n"
     ]
    }
   ],
   "source": [
    "mergear_y_variar([\"./difonos/sE.wav\",\"./difonos/Es.wav\"], \"ou\", f_ascendente_300 )\n"
   ]
  },
  {
   "cell_type": "markdown",
   "metadata": {},
   "source": [
    "Ejemplo de ejecución del TTS"
   ]
  },
  {
   "cell_type": "code",
   "execution_count": 1092,
   "metadata": {},
   "outputs": [
    {
     "name": "stdout",
     "output_type": "stream",
     "text": [
      "['-f', 'fe', 'ef', 'fe', 'ef', 'fE', 'Ef', 'fe', 'e-']\n"
     ]
    }
   ],
   "source": [
    "test(\"fefefEfe\")"
   ]
  },
  {
   "cell_type": "code",
   "execution_count": 143,
   "metadata": {},
   "outputs": [
    {
     "name": "stdout",
     "output_type": "stream",
     "text": [
      "['-f', 'fe', 'ef', 'fe', 'ef', 'fe', 'e-']\n",
      "['D:\\\\Downloads\\\\praat6104_win64\\\\Praat.exe', '--run', 'concatenar.praat', '']\n"
     ]
    }
   ],
   "source": [
    "test(\"fefefe\")"
   ]
  },
  {
   "cell_type": "code",
   "execution_count": 87,
   "metadata": {},
   "outputs": [
    {
     "name": "stdout",
     "output_type": "stream",
     "text": [
      "['-s', 'se', 'ef', 'fe', 'ef', 'fe', 'e-']\n"
     ]
    }
   ],
   "source": [
    "test(\"sefefe\")"
   ]
  },
  {
   "cell_type": "code",
   "execution_count": 88,
   "metadata": {},
   "outputs": [
    {
     "name": "stdout",
     "output_type": "stream",
     "text": [
      "['-s', 'se', 'ef', 'fE', 'Ef', 'fe', 'ef', 'fe', 'es', 'se', 'e-']\n"
     ]
    }
   ],
   "source": [
    "test(\"sefEfefese\")"
   ]
  },
  {
   "cell_type": "code",
   "execution_count": 78,
   "metadata": {},
   "outputs": [
    {
     "name": "stdout",
     "output_type": "stream",
     "text": [
      "['-s', 'se', 'ef', 'fe', 'ef', 'fe', 'es', 's-']\n"
     ]
    }
   ],
   "source": [
    "test(\"sefefes\")"
   ]
  },
  {
   "cell_type": "code",
   "execution_count": 79,
   "metadata": {},
   "outputs": [
    {
     "name": "stdout",
     "output_type": "stream",
     "text": [
      "['-e', 'ef', 'fe', 'ef', 'fe', 'e-']\n"
     ]
    }
   ],
   "source": [
    "test(\"efefe\")"
   ]
  },
  {
   "cell_type": "code",
   "execution_count": 89,
   "metadata": {},
   "outputs": [
    {
     "name": "stdout",
     "output_type": "stream",
     "text": [
      "['-m', 'me', 'es', 's-']\n",
      "['-m', 'me', 'es', 's-']\n"
     ]
    }
   ],
   "source": [
    "test(\"mes\")\n",
    "test_dbg(diphone_list(\"mes\")[1:], \"mesa\")"
   ]
  },
  {
   "cell_type": "code",
   "execution_count": 60,
   "metadata": {},
   "outputs": [
    {
     "name": "stdout",
     "output_type": "stream",
     "text": [
      "['-e', 'es', 's-']\n"
     ]
    }
   ],
   "source": [
    "test(\"es\")"
   ]
  },
  {
   "cell_type": "code",
   "execution_count": 61,
   "metadata": {},
   "outputs": [
    {
     "name": "stdout",
     "output_type": "stream",
     "text": [
      "['-m', 'me', 'ef', 'fe', 'es', 's-']\n"
     ]
    }
   ],
   "source": [
    "test(\"mefes\")"
   ]
  },
  {
   "cell_type": "code",
   "execution_count": 62,
   "metadata": {},
   "outputs": [
    {
     "name": "stdout",
     "output_type": "stream",
     "text": [
      "['-m', 'me', 'es', 'se', 'e-']\n"
     ]
    }
   ],
   "source": [
    "test(\"mese\")"
   ]
  },
  {
   "cell_type": "code",
   "execution_count": 90,
   "metadata": {},
   "outputs": [
    {
     "name": "stdout",
     "output_type": "stream",
     "text": [
      "['-m', 'me', 'em', 'me', 'e-']\n",
      "['-e', 'em', 'me', 'e-']\n"
     ]
    }
   ],
   "source": [
    "test(\"meme\")\n",
    "test_dbg(diphone_list(\"eme\")[1:], \"eme!\")"
   ]
  },
  {
   "cell_type": "code",
   "execution_count": 91,
   "metadata": {},
   "outputs": [
    {
     "name": "stdout",
     "output_type": "stream",
     "text": [
      "['-e', 'em', 'me', 'es', 's-']\n"
     ]
    }
   ],
   "source": [
    "test(\"emes\")"
   ]
  },
  {
   "cell_type": "code",
   "execution_count": 65,
   "metadata": {},
   "outputs": [
    {
     "name": "stdout",
     "output_type": "stream",
     "text": [
      "['-e', 'em', 'me', 'e-']\n"
     ]
    }
   ],
   "source": [
    "test(\"eme\")"
   ]
  },
  {
   "cell_type": "code",
   "execution_count": 66,
   "metadata": {},
   "outputs": [
    {
     "name": "stdout",
     "output_type": "stream",
     "text": [
      "['-k', 'ke', 'e-']\n"
     ]
    }
   ],
   "source": [
    "test(\"ke\")"
   ]
  },
  {
   "cell_type": "code",
   "execution_count": 67,
   "metadata": {},
   "outputs": [
    {
     "name": "stdout",
     "output_type": "stream",
     "text": [
      "['-k', 'ke', 'ek', 'ke', 'e-']\n"
     ]
    }
   ],
   "source": [
    "test(\"keke\")"
   ]
  },
  {
   "cell_type": "code",
   "execution_count": 92,
   "metadata": {},
   "outputs": [
    {
     "name": "stdout",
     "output_type": "stream",
     "text": [
      "['-e', 'ek', 'ke', 'ef', 'fe', 'ek', 'ke', 'e-']\n"
     ]
    }
   ],
   "source": [
    "test(\"ekefeke\")"
   ]
  },
  {
   "cell_type": "code",
   "execution_count": 93,
   "metadata": {},
   "outputs": [
    {
     "name": "stdout",
     "output_type": "stream",
     "text": [
      "['-e', 'es', 'se', 'ef', 'fe', 'es', 'se', 'ek', 'ke', 'e-']\n"
     ]
    }
   ],
   "source": [
    "test(\"esefeseke\")"
   ]
  },
  {
   "cell_type": "code",
   "execution_count": 546,
   "metadata": {},
   "outputs": [
    {
     "name": "stdout",
     "output_type": "stream",
     "text": [
      "['-k', 'ke', 'es', 'se', 'e-']\n"
     ]
    }
   ],
   "source": [
    "test(\"kese\")"
   ]
  },
  {
   "cell_type": "code",
   "execution_count": 547,
   "metadata": {},
   "outputs": [
    {
     "name": "stdout",
     "output_type": "stream",
     "text": [
      "['-k', 'ke', 'es', 'se', 'es', 's-']\n"
     ]
    }
   ],
   "source": [
    "test(\"keses\")"
   ]
  },
  {
   "cell_type": "code",
   "execution_count": 94,
   "metadata": {},
   "outputs": [
    {
     "name": "stdout",
     "output_type": "stream",
     "text": [
      "['-k', 'ke', 'ek', 'ke', 'ek', 'ke', 'e-']\n"
     ]
    }
   ],
   "source": [
    "test(\"kekeke\")"
   ]
  },
  {
   "cell_type": "code",
   "execution_count": 549,
   "metadata": {},
   "outputs": [
    {
     "name": "stdout",
     "output_type": "stream",
     "text": [
      "['-t', 'te', 'e-']\n"
     ]
    }
   ],
   "source": [
    "test(\"te\")"
   ]
  },
  {
   "cell_type": "code",
   "execution_count": 550,
   "metadata": {},
   "outputs": [
    {
     "name": "stdout",
     "output_type": "stream",
     "text": [
      "['-t', 'te', 'es', 'se', 'e-']\n"
     ]
    }
   ],
   "source": [
    "test(\"tese\")"
   ]
  },
  {
   "cell_type": "code",
   "execution_count": 551,
   "metadata": {},
   "outputs": [
    {
     "name": "stdout",
     "output_type": "stream",
     "text": [
      "['-t', 'te', 'ek', 'ke', 'et', 'te', 'ek', 'ke', 'e-']\n"
     ]
    }
   ],
   "source": [
    "test(\"teketeke\")"
   ]
  },
  {
   "cell_type": "code",
   "execution_count": 552,
   "metadata": {},
   "outputs": [
    {
     "name": "stdout",
     "output_type": "stream",
     "text": [
      "['-t', 'te', 'et', 'te', 'et', 'te', 'e-']\n"
     ]
    }
   ],
   "source": [
    "test(\"tetete\")"
   ]
  },
  {
   "cell_type": "code",
   "execution_count": 553,
   "metadata": {},
   "outputs": [
    {
     "name": "stdout",
     "output_type": "stream",
     "text": [
      "['-f', 'fe', 'et', 'tr', 're', 'e-']\n"
     ]
    }
   ],
   "source": [
    "test(\"fetre\")"
   ]
  },
  {
   "cell_type": "code",
   "execution_count": 95,
   "metadata": {},
   "outputs": [
    {
     "name": "stdout",
     "output_type": "stream",
     "text": [
      "['-m', 'me', 'ek', 'ke', 'et', 'tr', 're', 'ef', 'fe', 'e-']\n",
      "['-e', 'es', 'se', 'em', 'me', 'ek', 'ke', 'et', 'tr', 're', 'ef', 'fe', 'e-']\n"
     ]
    }
   ],
   "source": [
    "test(\"meketrefe\")\n",
    "test(\"esemeketrefe\")"
   ]
  },
  {
   "cell_type": "code",
   "execution_count": 555,
   "metadata": {},
   "outputs": [
    {
     "name": "stdout",
     "output_type": "stream",
     "text": [
      "['-e', 'er', 're', 'er', 're', 'er', 're', 'e-']\n",
      "['-e', 'es', 'sk', 'ke', 'er', 're', 'es', 'sk', 'ke', 'er', 're', 'e-']\n"
     ]
    }
   ],
   "source": [
    "test(\"ererere\")\n",
    "test(\"eskereskere\")"
   ]
  },
  {
   "cell_type": "code",
   "execution_count": 556,
   "metadata": {},
   "outputs": [
    {
     "name": "stdout",
     "output_type": "stream",
     "text": [
      "['-e', 'es', 'st', 'te', 'e-']\n"
     ]
    }
   ],
   "source": [
    "test(\"este\")"
   ]
  },
  {
   "cell_type": "code",
   "execution_count": 139,
   "metadata": {},
   "outputs": [
    {
     "name": "stdout",
     "output_type": "stream",
     "text": [
      "['-e', 'es', 'st', 'te', 'em', 'me', 'ek', 'ke', 'et', 'tr', 're', 'ef', 'fe', 'e-']\n",
      "['D:\\\\Downloads\\\\praat6104_win64\\\\Praat.exe', '--run', 'concatenar.praat', '']\n",
      "['-e', 'es', 'st', 'te', 'em', 'me', 'ek', 'ke', 'es', 'st', 'te', 'ef', 'fe', 'e-']\n",
      "['D:\\\\Downloads\\\\praat6104_win64\\\\Praat.exe', '--run', 'concatenar.praat', '']\n"
     ]
    }
   ],
   "source": [
    "test(\"estemeketrefe\")\n",
    "test(\"estemekestefe\")"
   ]
  },
  {
   "cell_type": "code",
   "execution_count": 558,
   "metadata": {},
   "outputs": [
    {
     "name": "stdout",
     "output_type": "stream",
     "text": [
      "['-e', 'ef', 'fr', 're', 'e-']\n",
      "['-f', 'fr', 're', 'e-']\n"
     ]
    }
   ],
   "source": [
    "test(\"efre\")\n",
    "test(\"fre\")"
   ]
  },
  {
   "cell_type": "code",
   "execution_count": 559,
   "metadata": {},
   "outputs": [
    {
     "name": "stdout",
     "output_type": "stream",
     "text": [
      "['-f', 'fr', 're', 'et', 'tr', 're', 'e-']\n"
     ]
    }
   ],
   "source": [
    "test(\"fretre\")"
   ]
  },
  {
   "cell_type": "code",
   "execution_count": 96,
   "metadata": {},
   "outputs": [
    {
     "name": "stdout",
     "output_type": "stream",
     "text": [
      "['-f', 'fr', 're', 'es', 'sk', 'ke', 'et', 'te', 'e-']\n",
      "['-k', 'ke', 'ef', 'fr', 're', 'es', 'sk', 'ke', 'et', 'te', 'e-']\n",
      "['-k', 'ke', 'ek', 'ke', 'ef', 'fr', 're', 'es', 'sk', 'ke', 'et', 'te', 'e-']\n"
     ]
    }
   ],
   "source": [
    "test(\"freskete\")\n",
    "test(\"kefreskete\")\n",
    "test(\"kekefreskete\")"
   ]
  },
  {
   "cell_type": "code",
   "execution_count": 561,
   "metadata": {},
   "outputs": [
    {
     "name": "stdout",
     "output_type": "stream",
     "text": [
      "['-k', 'ke', 'ek', 'kE', 'Ek', 'ke', 'e-']\n"
     ]
    }
   ],
   "source": [
    "test(\"kekEke\")"
   ]
  },
  {
   "cell_type": "code",
   "execution_count": 97,
   "metadata": {},
   "outputs": [
    {
     "name": "stdout",
     "output_type": "stream",
     "text": [
      "['-k', 'ke', 'ek', 'ke', 'ef', 'fr', 're', 'es', 'sk', 'kE', 'Ek', 'ke', 'e-']\n"
     ]
    }
   ],
   "source": [
    "test(\"kekefreskEke\")"
   ]
  },
  {
   "cell_type": "code",
   "execution_count": 563,
   "metadata": {},
   "outputs": [
    {
     "name": "stdout",
     "output_type": "stream",
     "text": [
      "['-k', 'ke', 'ef', 'fr', 're', 'es', 'sk', 'kE', 'Et', 'te', 'e-']\n",
      "['-k', 'kE', 'Ef', 'fr', 're', 'es', 'sk', 'kE', 'Et', 'te', 'e-']\n"
     ]
    }
   ],
   "source": [
    "test(\"kefreskEte\")\n",
    "test(\"kEfreskEte\")"
   ]
  },
  {
   "cell_type": "code",
   "execution_count": 564,
   "metadata": {},
   "outputs": [
    {
     "name": "stdout",
     "output_type": "stream",
     "text": [
      "['-e', 'ek', 'kr', 're', 'e-']\n",
      "['-t', 'te', 'ek', 'kr', 're', 'e-']\n",
      "['-k', 'ke', 'ek', 'kr', 're', 'et', 'te', 'e-']\n"
     ]
    }
   ],
   "source": [
    "test(\"ekre\")\n",
    "test(\"tekre\")\n",
    "test(\"kekrete\")"
   ]
  },
  {
   "cell_type": "code",
   "execution_count": 98,
   "metadata": {},
   "outputs": [
    {
     "name": "stdout",
     "output_type": "stream",
     "text": [
      "['-e', 'es', 'sf', 'fe', 'e-']\n",
      "['-e', 'es', 'sf', 'fe', 'es', 'sf', 'fe', 'es', 'sf', 'fe', 'e-']\n",
      "['-e', 'es', 'sf', 'fe', 'es', 'sf', 'fe', 'es', 'sf', 'fe', 'es', 'sf', 'fe', 'es', 'sf', 'fe', 'es', 'sf', 'fe', 'es', 'sf', 'fe', 'e-']\n"
     ]
    }
   ],
   "source": [
    "test(\"esfe\")\n",
    "test(\"esfesfesfe\")\n",
    "test(\"esfesfesfesfesfesfesfe\")"
   ]
  },
  {
   "cell_type": "code",
   "execution_count": 566,
   "metadata": {},
   "outputs": [
    {
     "name": "stdout",
     "output_type": "stream",
     "text": [
      "['-e', 'es', 'sf', 'fe', 'es', 's-']\n"
     ]
    }
   ],
   "source": [
    "test_dbg(diphone_list(\"esfes\")[1:], \"esfe!\")"
   ]
  },
  {
   "cell_type": "code",
   "execution_count": 567,
   "metadata": {},
   "outputs": [
    {
     "name": "stdout",
     "output_type": "stream",
     "text": [
      "['-e', 'es', 'st', 'te', 'e-']\n",
      "['-e', 'es', 'ss', 'st', 'te', 'e-']\n"
     ]
    }
   ],
   "source": [
    "test(\"este\")\n",
    "test(\"esste\")"
   ]
  },
  {
   "cell_type": "code",
   "execution_count": 568,
   "metadata": {},
   "outputs": [
    {
     "name": "stdout",
     "output_type": "stream",
     "text": [
      "['-e', 'es', 'sm', 'me', 'e-']\n",
      "['-e', 'es', 'sm', 'me', 'e-']\n",
      "['-e', 'es', 'sm', 'me', 'es', 'sm', 'me', 'es', 'sm', 'me', 'e-']\n"
     ]
    }
   ],
   "source": [
    "test_dbg(diphone_list(\"esme\")[2:], \"esme!\")\n",
    "test(\"esme\")\n",
    "test(\"esmesmesme\")"
   ]
  },
  {
   "cell_type": "code",
   "execution_count": 569,
   "metadata": {},
   "outputs": [
    {
     "name": "stdout",
     "output_type": "stream",
     "text": [
      "['-E', 'Ef', 'fe', 'e-']\n"
     ]
    }
   ],
   "source": [
    "test(\"Efe\")"
   ]
  },
  {
   "cell_type": "code",
   "execution_count": 570,
   "metadata": {},
   "outputs": [
    {
     "name": "stdout",
     "output_type": "stream",
     "text": [
      "['-E', 'E-']\n",
      "['-E', 'Ef', 'fE', 'E-']\n",
      "['-E', 'Ef', 'fe', 'ef', 'fe', 'ef', 'fE', 'Ef', 'fe', 'ef', 'fE', 'E-']\n"
     ]
    }
   ],
   "source": [
    "test(\"E\")\n",
    "test(\"EfE\")\n",
    "test(\"EfefefEfefE\")"
   ]
  },
  {
   "cell_type": "code",
   "execution_count": 571,
   "metadata": {},
   "outputs": [
    {
     "name": "stdout",
     "output_type": "stream",
     "text": [
      "['-e', 'eE', 'Ek', 'ke', 'e-']\n"
     ]
    }
   ],
   "source": [
    "test(\"eEke\")"
   ]
  },
  {
   "cell_type": "code",
   "execution_count": 572,
   "metadata": {},
   "outputs": [
    {
     "name": "stdout",
     "output_type": "stream",
     "text": [
      "['-E', 'Ee', 'ek', 'ke', 'e-']\n",
      "['-E', 'Ee', 'ef', 'fe', 'e-']\n"
     ]
    }
   ],
   "source": [
    "test(\"Eeke\")\n",
    "test(\"Eefe\")"
   ]
  },
  {
   "cell_type": "code",
   "execution_count": 573,
   "metadata": {},
   "outputs": [
    {
     "name": "stdout",
     "output_type": "stream",
     "text": [
      "['-e', 'ef', 'fe', 'e-']\n"
     ]
    }
   ],
   "source": [
    "test(\"efe\")"
   ]
  },
  {
   "cell_type": "code",
   "execution_count": 99,
   "metadata": {},
   "outputs": [
    {
     "name": "stdout",
     "output_type": "stream",
     "text": [
      "['-E', 'EE', 'EE', 'EE', 'EE', 'EE', 'EE', 'Ee', 'ee', 'ee', 'eE', 'EE', 'E-']\n",
      "['-e', 'ee', 'ee', 'ee', 'ee', 'ee', 'ee', 'ee', 'ee', 'e-']\n"
     ]
    }
   ],
   "source": [
    "test(\"EEEEEEEeeeEE\")\n",
    "test(\"eeeeeeeee\")"
   ]
  },
  {
   "cell_type": "code",
   "execution_count": 575,
   "metadata": {},
   "outputs": [
    {
     "name": "stdout",
     "output_type": "stream",
     "text": [
      "['-f', 'fE', 'EE', 'Ef', 'fE', 'EE', 'E-']\n"
     ]
    }
   ],
   "source": [
    "test(\"fEEfEE\")"
   ]
  },
  {
   "cell_type": "code",
   "execution_count": 576,
   "metadata": {},
   "outputs": [
    {
     "name": "stdout",
     "output_type": "stream",
     "text": [
      "['-m', 'mE', 'Ef', 'fe', 'e-']\n",
      "['-m', 'mE', 'Ef', 'fe', 'em', 'mE', 'E-']\n"
     ]
    }
   ],
   "source": [
    "test(\"mEfe\")\n",
    "test(\"mEfemE\")"
   ]
  },
  {
   "cell_type": "code",
   "execution_count": 577,
   "metadata": {},
   "outputs": [
    {
     "name": "stdout",
     "output_type": "stream",
     "text": [
      "['-s', 'sE', 'E-']\n",
      "['-s', 'sE', 'Ef', 'fE', 'E-']\n",
      "['-s', 'sE', 'Ek', 'ke', 'e-']\n"
     ]
    }
   ],
   "source": [
    "test(\"sE\")\n",
    "test(\"sEfE\")\n",
    "test(\"sEke\")"
   ]
  },
  {
   "cell_type": "code",
   "execution_count": 578,
   "metadata": {},
   "outputs": [
    {
     "name": "stdout",
     "output_type": "stream",
     "text": [
      "['-t', 'tE', 'E-']\n",
      "['-t', 'tE', 'Ef', 'fE', 'E-']\n",
      "['-t', 'tE', 'Ek', 'kE', 'E-']\n",
      "['-e', 'et', 'tE', 'Ek', 'kE', 'E-']\n"
     ]
    }
   ],
   "source": [
    "test(\"tE\")\n",
    "test(\"tEfE\")\n",
    "test(\"tEkE\")\n",
    "test(\"etEkE\")"
   ]
  },
  {
   "cell_type": "code",
   "execution_count": 579,
   "metadata": {},
   "outputs": [
    {
     "name": "stdout",
     "output_type": "stream",
     "text": [
      "['-e', 'er', 'rE', 'E-']\n",
      "['-e', 'er', 'rE', 'Ef', 'fE', 'E-']\n",
      "['-e', 'er', 'rE', 'Ek', 'kE', 'E-']\n",
      "['-e', 'er', 'rE', 'Ek', 'kE', 'E-']\n"
     ]
    }
   ],
   "source": [
    "test(\"erE\")\n",
    "test(\"erEfE\")\n",
    "test(\"erEkE\")\n",
    "test(\"erEkE\")"
   ]
  },
  {
   "cell_type": "code",
   "execution_count": 580,
   "metadata": {},
   "outputs": [
    {
     "name": "stdout",
     "output_type": "stream",
     "text": [
      "['-e', 'er', 'rE', 'Em', 'me', 'e-']\n",
      "['-e', 'er', 'rE', 'Em', 'mE', 'E-']\n",
      "['-e', 'er', 're', 'em', 'me', 'e-']\n",
      "['-e', 'er', 'rE', 'Em', 'me', 'ef', 'fe', 'e-']\n"
     ]
    }
   ],
   "source": [
    "test(\"erEme\")\n",
    "test(\"erEmE\")\n",
    "test(\"ereme\")\n",
    "test(\"erEmefe\")"
   ]
  },
  {
   "cell_type": "code",
   "execution_count": 581,
   "metadata": {},
   "outputs": [
    {
     "name": "stdout",
     "output_type": "stream",
     "text": [
      "['-e', 'er', 'rE', 'Es', 'se', 'e-']\n",
      "['-e', 'er', 'rE', 'Es', 'sE', 'E-']\n",
      "['-e', 'er', 're', 'es', 'se', 'e-']\n",
      "['-e', 'er', 'rE', 'Es', 'se', 'ef', 'fe', 'e-']\n"
     ]
    }
   ],
   "source": [
    "test(\"erEse\")\n",
    "test(\"erEsE\")\n",
    "test(\"erese\")\n",
    "test(\"erEsefe\")"
   ]
  },
  {
   "cell_type": "code",
   "execution_count": 100,
   "metadata": {},
   "outputs": [
    {
     "name": "stdout",
     "output_type": "stream",
     "text": [
      "['-e', 'er', 'rE', 'Er', 're', 'e-']\n",
      "['-e', 'er', 'rE', 'Er', 'rE', 'E-']\n",
      "['-e', 'er', 're', 'er', 're', 'e-']\n",
      "['-e', 'er', 'rE', 'Er', 're', 'ef', 'fe', 'e-']\n"
     ]
    }
   ],
   "source": [
    "test(\"erEre\")\n",
    "test(\"erErE\")\n",
    "test(\"erere\")\n",
    "test(\"erErefe\")"
   ]
  },
  {
   "cell_type": "code",
   "execution_count": 862,
   "metadata": {},
   "outputs": [
    {
     "name": "stdout",
     "output_type": "stream",
     "text": [
      "['-s', 'sk', 'ke', 'er', 're', 'es', 'sk', 'ke', 'er', 're', 'e-']\n"
     ]
    }
   ],
   "source": [
    "test(\"skereskere\")"
   ]
  },
  {
   "cell_type": "code",
   "execution_count": 866,
   "metadata": {},
   "outputs": [
    {
     "name": "stdout",
     "output_type": "stream",
     "text": [
      "['-e', 'er', 're', 'er', 'rE', 'E-']\n",
      "['-e', 'er', 're', 'es', 'sE', 'E-']\n",
      "['-e', 'er', 're', 'ek', 'kE', 'E-']\n",
      "['-e', 'er', 're', 'et', 'tE', 'E-']\n"
     ]
    }
   ],
   "source": [
    "test(\"ererE\")\n",
    "test(\"eresE\")\n",
    "test(\"erekE\")\n",
    "test(\"eretE\")"
   ]
  },
  {
   "cell_type": "code",
   "execution_count": 867,
   "metadata": {},
   "outputs": [
    {
     "name": "stdout",
     "output_type": "stream",
     "text": [
      "['-k', 'kE', 'Ef', 'fr', 're', 'es', 'sk', 'kE', 'Et', 'te', 'ek', 'ke', 'eE', 'Es', 'st', 'te', 'ee', 'es', 'st', 'tE', 'E-']\n"
     ]
    }
   ],
   "source": [
    "test(\"kEfreskEtekeEsteestE\")"
   ]
  },
  {
   "cell_type": "code",
   "execution_count": 868,
   "metadata": {},
   "outputs": [
    {
     "name": "stdout",
     "output_type": "stream",
     "text": [
      "['-k', 'kE', 'Em', 'me', 'em', 'mE', 'Ef', 'fe', 'ek', 'ke', 'eE', 'Es', 'st', 'te', 'ee', 'es', 'st', 'tE', 'E-']\n"
     ]
    }
   ],
   "source": [
    "test(\"kEmemEfekeEsteestE\")"
   ]
  },
  {
   "cell_type": "code",
   "execution_count": null,
   "metadata": {},
   "outputs": [],
   "source": [
    "def leer_pitch_track(filename):\n",
    "    with open(filename, 'r') as f:\n",
    "        res = f.read()\n",
    "    return res"
   ]
  }
 ],
 "metadata": {
  "kernelspec": {
   "display_name": "Python 3",
   "language": "python",
   "name": "python3"
  },
  "language_info": {
   "codemirror_mode": {
    "name": "ipython",
    "version": 3
   },
   "file_extension": ".py",
   "mimetype": "text/x-python",
   "name": "python",
   "nbconvert_exporter": "python",
   "pygments_lexer": "ipython3",
   "version": "3.7.4"
  }
 },
 "nbformat": 4,
 "nbformat_minor": 4
}
