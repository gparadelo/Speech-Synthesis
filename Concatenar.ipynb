{
 "cells": [
  {
   "cell_type": "code",
   "execution_count": 722,
   "metadata": {},
   "outputs": [],
   "source": [
    "import sys\n",
    "import os\n",
    "from subprocess import Popen, PIPE\n",
    "import re"
   ]
  },
  {
   "cell_type": "code",
   "execution_count": 723,
   "metadata": {},
   "outputs": [],
   "source": [
    "PRAAT= '/usr/bin/praat'\n",
    "#PRAAT = 'D:\\Downloads\\praat6104_win64\\Praat.exe'\n",
    "\n",
    "diphone_folder = \"/home/aletg/ph-tp1/difonos/\"\n",
    "#diphone_folder = \"D:\\Documents\\Facu\\ph-tp1\\difonos\\\\\""
   ]
  },
  {
   "cell_type": "code",
   "execution_count": 724,
   "metadata": {},
   "outputs": [],
   "source": [
    "def run_praat(script_file, args):\n",
    "    args= [PRAAT, '--run', script_file, args]\n",
    "    p = Popen(args, stdout=PIPE)\n",
    "    p.wait()"
   ]
  },
  {
   "cell_type": "markdown",
   "metadata": {},
   "source": [
    "Lista de archivos de audio - concatenar audio y escribir a archivo"
   ]
  },
  {
   "cell_type": "code",
   "execution_count": 725,
   "metadata": {},
   "outputs": [],
   "source": [
    "def output_audio(filenames, output_name):\n",
    "\n",
    "    script = \"\"\n",
    "    for i, f in enumerate(filenames):\n",
    "        script += \"Read from file: \\\"\" + f + \"\\\"\\n\"\n",
    "        script += \"selectObject: \\\"Sound \" + f[-6:-4] + \"\\\"\\n\"\n",
    "        script += \"Rename: \\\"\" + f[-6:-4] + str(i) + \"\\\"\\n\"\n",
    "\n",
    "    script += \"selectObject: \\\"Sound \" + filenames[0][-6:-4] + str(0) + \"\\\"\\n\"\n",
    "    for i, f in enumerate(filenames[1:]):\n",
    "        script += \"plusObject: \\\"Sound \" + f[-6:-4] + str(i+1) + \"\\\"\\n\"\n",
    "\n",
    "    script += \"Concatenate recoverably\\n\"\n",
    "    script += \"selectObject: \\\"Sound chain\\\"\\n\"\n",
    "    script += \"Write to WAV file: \\\"\" + output_name + \"\\\"\\n\"\n",
    "    script += \"Save as text file: \\\"\" + output_name + \".TextGrid\\\"\\n\"\n",
    "\n",
    "    with open(\"concatenar.praat\", \"w\") as cf:\n",
    "        cf.write(script)\n",
    "\n",
    "    run_praat(\"concatenar.praat\", \"\")\n",
    "    os.remove(\"concatenar.praat\")\n",
    "\n",
    "# output_audio([\"./Difonos/re.wav\", \"./Difonos/rE.wav\"], \"./file.wav\")"
   ]
  },
  {
   "cell_type": "markdown",
   "metadata": {},
   "source": [
    "Obtener lista de difonos a partir de una palabra"
   ]
  },
  {
   "cell_type": "code",
   "execution_count": 726,
   "metadata": {},
   "outputs": [
    {
     "name": "stdout",
     "output_type": "stream",
     "text": [
      "['-e', 'ef', 'fe', 'e-']\n"
     ]
    },
    {
     "data": {
      "text/plain": [
       "['/home/aletg/ph-tp1/difonos/-e.wav',\n",
       " '/home/aletg/ph-tp1/difonos/ef.wav',\n",
       " '/home/aletg/ph-tp1/difonos/fe.wav',\n",
       " '/home/aletg/ph-tp1/difonos/e-.wav']"
      ]
     },
     "execution_count": 726,
     "metadata": {},
     "output_type": "execute_result"
    }
   ],
   "source": [
    "diphones = [\"-e\", \"-E\", \"-f\", \"-k\", \"-m\", \"-s\", \"-t\", \"e-\", \"E-\",\n",
    "           \"s-\", \"ee\", \"eE\", \"Ee\", \"EE\", \"fe\", \"fE\", \"ke\", \"kE\", \n",
    "           \"me\", \"mE\", \"se\", \"sE\", \"te\", \"tE\", \"re\", \"rE\", \"ef\",\n",
    "           \"Ef\", \"ek\", \"Ek\", \"em\", \"Em\", \"es\", \"Es\", \"et\", \"Et\",\n",
    "           \"er\", \"Er\", \"fr\", \"kr\", \"tr\", \"sf\", \"sk\", \"st\", \"ss\",\n",
    "           \"sm\"]\n",
    "\n",
    "wavsufix = \".wav\"\n",
    "\n",
    "def diphone_list(word):\n",
    "    diphone_list = []\n",
    "    word  = \"-\" + word + \"-\"\n",
    "    for i, _ in enumerate(word[:-1]):\n",
    "        diphone = word[i:i+2]\n",
    "        if not diphone in diphones:\n",
    "            print(\"ERROR: invalid word. Try again.\")\n",
    "            sys.exit(1)\n",
    "        diphone_list.append(diphone)\n",
    "    print(diphone_list)\n",
    "    # agregar prefijo y sufijo\n",
    "    return list(map(lambda s: diphone_folder + s + wavsufix, diphone_list))\n",
    "\n",
    "diphone_list(\"efe\")"
   ]
  },
  {
   "cell_type": "code",
   "execution_count": 843,
   "metadata": {},
   "outputs": [],
   "source": [
    "pitch_start_range = 90\n",
    "pitch_end_range = 300\n",
    "\n",
    "def extract_pitch_track(filename):\n",
    "    args = \" \"\n",
    "    args += filename + \".wav \" + filename + \".PitchTier \" + str(pitch_start_range) + \" \" + str(pitch_end_range)\n",
    "    run_praat(\"extraer-pitch-track.praat\", args )\n",
    "\n",
    "def replace_pitch_track(inputSound, inputPitch, outSound):\n",
    "    args = \" \"\n",
    "    args += inputSound + \" \" + inputPitch + \" \" + outSound + \" \" + str(pitch_start_range) + \" \" + str(pitch_end_range)\n",
    "    run_praat(\"reemplazar-pitch-track.praat\", args )"
   ]
  },
  {
   "cell_type": "code",
   "execution_count": 844,
   "metadata": {},
   "outputs": [],
   "source": [
    "def modify_pitch_track( pitchTierIn, factor, pitchTierOut ):\n",
    "    with open(pitchTierIn, 'r') as inF, open(pitchTierOut, \"w\") as outF:\n",
    "        for line in inF:\n",
    "            if \"value\" in line:\n",
    "                pitch = float(line[12:])\n",
    "                pitch *= factor\n",
    "                line = \"    value = \" + str(pitch) + \"\\n\"\n",
    "            outF.write(line)"
   ]
  },
  {
   "cell_type": "code",
   "execution_count": 845,
   "metadata": {},
   "outputs": [],
   "source": [
    "modify_pitch_track( \"./test/estemeketrefe.PitchTier\", 2, \"./test/estemeketrefe_agudo.PitchTier\" )\n"
   ]
  },
  {
   "cell_type": "code",
   "execution_count": 846,
   "metadata": {},
   "outputs": [],
   "source": [
    "def tts(word, output_filename):\n",
    "    output_audio(diphone_list(word), output_filename)"
   ]
  },
  {
   "cell_type": "code",
   "execution_count": 847,
   "metadata": {},
   "outputs": [],
   "source": [
    "def test(word):\n",
    "    tts(word, \"./test/\" + word + \".wav\")\n",
    "    \n",
    "def test_dbg(list, name):\n",
    "    output_audio(list, \"./test/\" + name + \".wav\")\n",
    "    "
   ]
  },
  {
   "cell_type": "markdown",
   "metadata": {},
   "source": [
    "Ejemplo de ejecución del TTS"
   ]
  },
  {
   "cell_type": "code",
   "execution_count": 854,
   "metadata": {},
   "outputs": [],
   "source": [
    "def variar_pitch(inF, factor):\n",
    "    extract_pitch_track( inF )\n",
    "\n",
    "    modify_pitch_track( inF + \".PitchTier\", factor, inF + \"_agudo.PitchTier\" )\n",
    "\n",
    "    replace_pitch_track( inF + \".wav\", inF + \"_agudo.PitchTier\", inF + \"_agudo.wav\" )"
   ]
  },
  {
   "cell_type": "code",
   "execution_count": 861,
   "metadata": {},
   "outputs": [
    {
     "name": "stdout",
     "output_type": "stream",
     "text": [
      "['-e', 'es', 'st', 'te', 'em', 'me', 'ek', 'ke', 'et', 'tr', 're', 'ef', 'fe', 'e-']\n"
     ]
    }
   ],
   "source": [
    "variar_pitch(\"./difonos/fe\", 2)\n",
    "\n",
    "test(\"estemeketrefe\")\n",
    "variar_pitch(\"./test/estemeketrefe\", 2)"
   ]
  },
  {
   "cell_type": "code",
   "execution_count": 853,
   "metadata": {},
   "outputs": [],
   "source": [
    "variar_pitch(\"./s\",2 )"
   ]
  },
  {
   "cell_type": "code",
   "execution_count": 135,
   "metadata": {},
   "outputs": [
    {
     "name": "stdout",
     "output_type": "stream",
     "text": [
      "['-f', 'fe', 'ef', 'fe', 'ef', 'fE', 'Ef', 'fe', 'e-']\n"
     ]
    }
   ],
   "source": [
    "test(\"fefefEfe\")"
   ]
  },
  {
   "cell_type": "code",
   "execution_count": 143,
   "metadata": {},
   "outputs": [
    {
     "name": "stdout",
     "output_type": "stream",
     "text": [
      "['-f', 'fe', 'ef', 'fe', 'ef', 'fe', 'e-']\n",
      "['D:\\\\Downloads\\\\praat6104_win64\\\\Praat.exe', '--run', 'concatenar.praat', '']\n"
     ]
    }
   ],
   "source": [
    "test(\"fefefe\")"
   ]
  },
  {
   "cell_type": "code",
   "execution_count": 87,
   "metadata": {},
   "outputs": [
    {
     "name": "stdout",
     "output_type": "stream",
     "text": [
      "['-s', 'se', 'ef', 'fe', 'ef', 'fe', 'e-']\n"
     ]
    }
   ],
   "source": [
    "test(\"sefefe\")"
   ]
  },
  {
   "cell_type": "code",
   "execution_count": 88,
   "metadata": {},
   "outputs": [
    {
     "name": "stdout",
     "output_type": "stream",
     "text": [
      "['-s', 'se', 'ef', 'fE', 'Ef', 'fe', 'ef', 'fe', 'es', 'se', 'e-']\n"
     ]
    }
   ],
   "source": [
    "test(\"sefEfefese\")"
   ]
  },
  {
   "cell_type": "code",
   "execution_count": 78,
   "metadata": {},
   "outputs": [
    {
     "name": "stdout",
     "output_type": "stream",
     "text": [
      "['-s', 'se', 'ef', 'fe', 'ef', 'fe', 'es', 's-']\n"
     ]
    }
   ],
   "source": [
    "test(\"sefefes\")"
   ]
  },
  {
   "cell_type": "code",
   "execution_count": 79,
   "metadata": {},
   "outputs": [
    {
     "name": "stdout",
     "output_type": "stream",
     "text": [
      "['-e', 'ef', 'fe', 'ef', 'fe', 'e-']\n"
     ]
    }
   ],
   "source": [
    "test(\"efefe\")"
   ]
  },
  {
   "cell_type": "code",
   "execution_count": 89,
   "metadata": {},
   "outputs": [
    {
     "name": "stdout",
     "output_type": "stream",
     "text": [
      "['-m', 'me', 'es', 's-']\n",
      "['-m', 'me', 'es', 's-']\n"
     ]
    }
   ],
   "source": [
    "test(\"mes\")\n",
    "test_dbg(diphone_list(\"mes\")[1:], \"mesa\")"
   ]
  },
  {
   "cell_type": "code",
   "execution_count": 60,
   "metadata": {},
   "outputs": [
    {
     "name": "stdout",
     "output_type": "stream",
     "text": [
      "['-e', 'es', 's-']\n"
     ]
    }
   ],
   "source": [
    "test(\"es\")"
   ]
  },
  {
   "cell_type": "code",
   "execution_count": 61,
   "metadata": {},
   "outputs": [
    {
     "name": "stdout",
     "output_type": "stream",
     "text": [
      "['-m', 'me', 'ef', 'fe', 'es', 's-']\n"
     ]
    }
   ],
   "source": [
    "test(\"mefes\")"
   ]
  },
  {
   "cell_type": "code",
   "execution_count": 62,
   "metadata": {},
   "outputs": [
    {
     "name": "stdout",
     "output_type": "stream",
     "text": [
      "['-m', 'me', 'es', 'se', 'e-']\n"
     ]
    }
   ],
   "source": [
    "test(\"mese\")"
   ]
  },
  {
   "cell_type": "code",
   "execution_count": 90,
   "metadata": {},
   "outputs": [
    {
     "name": "stdout",
     "output_type": "stream",
     "text": [
      "['-m', 'me', 'em', 'me', 'e-']\n",
      "['-e', 'em', 'me', 'e-']\n"
     ]
    }
   ],
   "source": [
    "test(\"meme\")\n",
    "test_dbg(diphone_list(\"eme\")[1:], \"eme!\")"
   ]
  },
  {
   "cell_type": "code",
   "execution_count": 91,
   "metadata": {},
   "outputs": [
    {
     "name": "stdout",
     "output_type": "stream",
     "text": [
      "['-e', 'em', 'me', 'es', 's-']\n"
     ]
    }
   ],
   "source": [
    "test(\"emes\")"
   ]
  },
  {
   "cell_type": "code",
   "execution_count": 65,
   "metadata": {},
   "outputs": [
    {
     "name": "stdout",
     "output_type": "stream",
     "text": [
      "['-e', 'em', 'me', 'e-']\n"
     ]
    }
   ],
   "source": [
    "test(\"eme\")"
   ]
  },
  {
   "cell_type": "code",
   "execution_count": 66,
   "metadata": {},
   "outputs": [
    {
     "name": "stdout",
     "output_type": "stream",
     "text": [
      "['-k', 'ke', 'e-']\n"
     ]
    }
   ],
   "source": [
    "test(\"ke\")"
   ]
  },
  {
   "cell_type": "code",
   "execution_count": 67,
   "metadata": {},
   "outputs": [
    {
     "name": "stdout",
     "output_type": "stream",
     "text": [
      "['-k', 'ke', 'ek', 'ke', 'e-']\n"
     ]
    }
   ],
   "source": [
    "test(\"keke\")"
   ]
  },
  {
   "cell_type": "code",
   "execution_count": 92,
   "metadata": {},
   "outputs": [
    {
     "name": "stdout",
     "output_type": "stream",
     "text": [
      "['-e', 'ek', 'ke', 'ef', 'fe', 'ek', 'ke', 'e-']\n"
     ]
    }
   ],
   "source": [
    "test(\"ekefeke\")"
   ]
  },
  {
   "cell_type": "code",
   "execution_count": 93,
   "metadata": {},
   "outputs": [
    {
     "name": "stdout",
     "output_type": "stream",
     "text": [
      "['-e', 'es', 'se', 'ef', 'fe', 'es', 'se', 'ek', 'ke', 'e-']\n"
     ]
    }
   ],
   "source": [
    "test(\"esefeseke\")"
   ]
  },
  {
   "cell_type": "code",
   "execution_count": 546,
   "metadata": {},
   "outputs": [
    {
     "name": "stdout",
     "output_type": "stream",
     "text": [
      "['-k', 'ke', 'es', 'se', 'e-']\n"
     ]
    }
   ],
   "source": [
    "test(\"kese\")"
   ]
  },
  {
   "cell_type": "code",
   "execution_count": 547,
   "metadata": {},
   "outputs": [
    {
     "name": "stdout",
     "output_type": "stream",
     "text": [
      "['-k', 'ke', 'es', 'se', 'es', 's-']\n"
     ]
    }
   ],
   "source": [
    "test(\"keses\")"
   ]
  },
  {
   "cell_type": "code",
   "execution_count": 94,
   "metadata": {},
   "outputs": [
    {
     "name": "stdout",
     "output_type": "stream",
     "text": [
      "['-k', 'ke', 'ek', 'ke', 'ek', 'ke', 'e-']\n"
     ]
    }
   ],
   "source": [
    "test(\"kekeke\")"
   ]
  },
  {
   "cell_type": "code",
   "execution_count": 549,
   "metadata": {},
   "outputs": [
    {
     "name": "stdout",
     "output_type": "stream",
     "text": [
      "['-t', 'te', 'e-']\n"
     ]
    }
   ],
   "source": [
    "test(\"te\")"
   ]
  },
  {
   "cell_type": "code",
   "execution_count": 550,
   "metadata": {},
   "outputs": [
    {
     "name": "stdout",
     "output_type": "stream",
     "text": [
      "['-t', 'te', 'es', 'se', 'e-']\n"
     ]
    }
   ],
   "source": [
    "test(\"tese\")"
   ]
  },
  {
   "cell_type": "code",
   "execution_count": 551,
   "metadata": {},
   "outputs": [
    {
     "name": "stdout",
     "output_type": "stream",
     "text": [
      "['-t', 'te', 'ek', 'ke', 'et', 'te', 'ek', 'ke', 'e-']\n"
     ]
    }
   ],
   "source": [
    "test(\"teketeke\")"
   ]
  },
  {
   "cell_type": "code",
   "execution_count": 552,
   "metadata": {},
   "outputs": [
    {
     "name": "stdout",
     "output_type": "stream",
     "text": [
      "['-t', 'te', 'et', 'te', 'et', 'te', 'e-']\n"
     ]
    }
   ],
   "source": [
    "test(\"tetete\")"
   ]
  },
  {
   "cell_type": "code",
   "execution_count": 553,
   "metadata": {},
   "outputs": [
    {
     "name": "stdout",
     "output_type": "stream",
     "text": [
      "['-f', 'fe', 'et', 'tr', 're', 'e-']\n"
     ]
    }
   ],
   "source": [
    "test(\"fetre\")"
   ]
  },
  {
   "cell_type": "code",
   "execution_count": 95,
   "metadata": {},
   "outputs": [
    {
     "name": "stdout",
     "output_type": "stream",
     "text": [
      "['-m', 'me', 'ek', 'ke', 'et', 'tr', 're', 'ef', 'fe', 'e-']\n",
      "['-e', 'es', 'se', 'em', 'me', 'ek', 'ke', 'et', 'tr', 're', 'ef', 'fe', 'e-']\n"
     ]
    }
   ],
   "source": [
    "test(\"meketrefe\")\n",
    "test(\"esemeketrefe\")"
   ]
  },
  {
   "cell_type": "code",
   "execution_count": 555,
   "metadata": {},
   "outputs": [
    {
     "name": "stdout",
     "output_type": "stream",
     "text": [
      "['-e', 'er', 're', 'er', 're', 'er', 're', 'e-']\n",
      "['-e', 'es', 'sk', 'ke', 'er', 're', 'es', 'sk', 'ke', 'er', 're', 'e-']\n"
     ]
    }
   ],
   "source": [
    "test(\"ererere\")\n",
    "test(\"eskereskere\")"
   ]
  },
  {
   "cell_type": "code",
   "execution_count": 556,
   "metadata": {},
   "outputs": [
    {
     "name": "stdout",
     "output_type": "stream",
     "text": [
      "['-e', 'es', 'st', 'te', 'e-']\n"
     ]
    }
   ],
   "source": [
    "test(\"este\")"
   ]
  },
  {
   "cell_type": "code",
   "execution_count": 139,
   "metadata": {},
   "outputs": [
    {
     "name": "stdout",
     "output_type": "stream",
     "text": [
      "['-e', 'es', 'st', 'te', 'em', 'me', 'ek', 'ke', 'et', 'tr', 're', 'ef', 'fe', 'e-']\n",
      "['D:\\\\Downloads\\\\praat6104_win64\\\\Praat.exe', '--run', 'concatenar.praat', '']\n",
      "['-e', 'es', 'st', 'te', 'em', 'me', 'ek', 'ke', 'es', 'st', 'te', 'ef', 'fe', 'e-']\n",
      "['D:\\\\Downloads\\\\praat6104_win64\\\\Praat.exe', '--run', 'concatenar.praat', '']\n"
     ]
    }
   ],
   "source": [
    "test(\"estemeketrefe\")\n",
    "test(\"estemekestefe\")"
   ]
  },
  {
   "cell_type": "code",
   "execution_count": 558,
   "metadata": {},
   "outputs": [
    {
     "name": "stdout",
     "output_type": "stream",
     "text": [
      "['-e', 'ef', 'fr', 're', 'e-']\n",
      "['-f', 'fr', 're', 'e-']\n"
     ]
    }
   ],
   "source": [
    "test(\"efre\")\n",
    "test(\"fre\")"
   ]
  },
  {
   "cell_type": "code",
   "execution_count": 559,
   "metadata": {},
   "outputs": [
    {
     "name": "stdout",
     "output_type": "stream",
     "text": [
      "['-f', 'fr', 're', 'et', 'tr', 're', 'e-']\n"
     ]
    }
   ],
   "source": [
    "test(\"fretre\")"
   ]
  },
  {
   "cell_type": "code",
   "execution_count": 96,
   "metadata": {},
   "outputs": [
    {
     "name": "stdout",
     "output_type": "stream",
     "text": [
      "['-f', 'fr', 're', 'es', 'sk', 'ke', 'et', 'te', 'e-']\n",
      "['-k', 'ke', 'ef', 'fr', 're', 'es', 'sk', 'ke', 'et', 'te', 'e-']\n",
      "['-k', 'ke', 'ek', 'ke', 'ef', 'fr', 're', 'es', 'sk', 'ke', 'et', 'te', 'e-']\n"
     ]
    }
   ],
   "source": [
    "test(\"freskete\")\n",
    "test(\"kefreskete\")\n",
    "test(\"kekefreskete\")"
   ]
  },
  {
   "cell_type": "code",
   "execution_count": 561,
   "metadata": {},
   "outputs": [
    {
     "name": "stdout",
     "output_type": "stream",
     "text": [
      "['-k', 'ke', 'ek', 'kE', 'Ek', 'ke', 'e-']\n"
     ]
    }
   ],
   "source": [
    "test(\"kekEke\")"
   ]
  },
  {
   "cell_type": "code",
   "execution_count": 97,
   "metadata": {},
   "outputs": [
    {
     "name": "stdout",
     "output_type": "stream",
     "text": [
      "['-k', 'ke', 'ek', 'ke', 'ef', 'fr', 're', 'es', 'sk', 'kE', 'Ek', 'ke', 'e-']\n"
     ]
    }
   ],
   "source": [
    "test(\"kekefreskEke\")"
   ]
  },
  {
   "cell_type": "code",
   "execution_count": 563,
   "metadata": {},
   "outputs": [
    {
     "name": "stdout",
     "output_type": "stream",
     "text": [
      "['-k', 'ke', 'ef', 'fr', 're', 'es', 'sk', 'kE', 'Et', 'te', 'e-']\n",
      "['-k', 'kE', 'Ef', 'fr', 're', 'es', 'sk', 'kE', 'Et', 'te', 'e-']\n"
     ]
    }
   ],
   "source": [
    "test(\"kefreskEte\")\n",
    "test(\"kEfreskEte\")"
   ]
  },
  {
   "cell_type": "code",
   "execution_count": 564,
   "metadata": {},
   "outputs": [
    {
     "name": "stdout",
     "output_type": "stream",
     "text": [
      "['-e', 'ek', 'kr', 're', 'e-']\n",
      "['-t', 'te', 'ek', 'kr', 're', 'e-']\n",
      "['-k', 'ke', 'ek', 'kr', 're', 'et', 'te', 'e-']\n"
     ]
    }
   ],
   "source": [
    "test(\"ekre\")\n",
    "test(\"tekre\")\n",
    "test(\"kekrete\")"
   ]
  },
  {
   "cell_type": "code",
   "execution_count": 98,
   "metadata": {},
   "outputs": [
    {
     "name": "stdout",
     "output_type": "stream",
     "text": [
      "['-e', 'es', 'sf', 'fe', 'e-']\n",
      "['-e', 'es', 'sf', 'fe', 'es', 'sf', 'fe', 'es', 'sf', 'fe', 'e-']\n",
      "['-e', 'es', 'sf', 'fe', 'es', 'sf', 'fe', 'es', 'sf', 'fe', 'es', 'sf', 'fe', 'es', 'sf', 'fe', 'es', 'sf', 'fe', 'es', 'sf', 'fe', 'e-']\n"
     ]
    }
   ],
   "source": [
    "test(\"esfe\")\n",
    "test(\"esfesfesfe\")\n",
    "test(\"esfesfesfesfesfesfesfe\")"
   ]
  },
  {
   "cell_type": "code",
   "execution_count": 566,
   "metadata": {},
   "outputs": [
    {
     "name": "stdout",
     "output_type": "stream",
     "text": [
      "['-e', 'es', 'sf', 'fe', 'es', 's-']\n"
     ]
    }
   ],
   "source": [
    "test_dbg(diphone_list(\"esfes\")[1:], \"esfe!\")"
   ]
  },
  {
   "cell_type": "code",
   "execution_count": 567,
   "metadata": {},
   "outputs": [
    {
     "name": "stdout",
     "output_type": "stream",
     "text": [
      "['-e', 'es', 'st', 'te', 'e-']\n",
      "['-e', 'es', 'ss', 'st', 'te', 'e-']\n"
     ]
    }
   ],
   "source": [
    "test(\"este\")\n",
    "test(\"esste\")"
   ]
  },
  {
   "cell_type": "code",
   "execution_count": 568,
   "metadata": {},
   "outputs": [
    {
     "name": "stdout",
     "output_type": "stream",
     "text": [
      "['-e', 'es', 'sm', 'me', 'e-']\n",
      "['-e', 'es', 'sm', 'me', 'e-']\n",
      "['-e', 'es', 'sm', 'me', 'es', 'sm', 'me', 'es', 'sm', 'me', 'e-']\n"
     ]
    }
   ],
   "source": [
    "test_dbg(diphone_list(\"esme\")[2:], \"esme!\")\n",
    "test(\"esme\")\n",
    "test(\"esmesmesme\")"
   ]
  },
  {
   "cell_type": "code",
   "execution_count": 569,
   "metadata": {},
   "outputs": [
    {
     "name": "stdout",
     "output_type": "stream",
     "text": [
      "['-E', 'Ef', 'fe', 'e-']\n"
     ]
    }
   ],
   "source": [
    "test(\"Efe\")"
   ]
  },
  {
   "cell_type": "code",
   "execution_count": 570,
   "metadata": {},
   "outputs": [
    {
     "name": "stdout",
     "output_type": "stream",
     "text": [
      "['-E', 'E-']\n",
      "['-E', 'Ef', 'fE', 'E-']\n",
      "['-E', 'Ef', 'fe', 'ef', 'fe', 'ef', 'fE', 'Ef', 'fe', 'ef', 'fE', 'E-']\n"
     ]
    }
   ],
   "source": [
    "test(\"E\")\n",
    "test(\"EfE\")\n",
    "test(\"EfefefEfefE\")"
   ]
  },
  {
   "cell_type": "code",
   "execution_count": 571,
   "metadata": {},
   "outputs": [
    {
     "name": "stdout",
     "output_type": "stream",
     "text": [
      "['-e', 'eE', 'Ek', 'ke', 'e-']\n"
     ]
    }
   ],
   "source": [
    "test(\"eEke\")"
   ]
  },
  {
   "cell_type": "code",
   "execution_count": 572,
   "metadata": {},
   "outputs": [
    {
     "name": "stdout",
     "output_type": "stream",
     "text": [
      "['-E', 'Ee', 'ek', 'ke', 'e-']\n",
      "['-E', 'Ee', 'ef', 'fe', 'e-']\n"
     ]
    }
   ],
   "source": [
    "test(\"Eeke\")\n",
    "test(\"Eefe\")"
   ]
  },
  {
   "cell_type": "code",
   "execution_count": 573,
   "metadata": {},
   "outputs": [
    {
     "name": "stdout",
     "output_type": "stream",
     "text": [
      "['-e', 'ef', 'fe', 'e-']\n"
     ]
    }
   ],
   "source": [
    "test(\"efe\")"
   ]
  },
  {
   "cell_type": "code",
   "execution_count": 99,
   "metadata": {},
   "outputs": [
    {
     "name": "stdout",
     "output_type": "stream",
     "text": [
      "['-E', 'EE', 'EE', 'EE', 'EE', 'EE', 'EE', 'Ee', 'ee', 'ee', 'eE', 'EE', 'E-']\n",
      "['-e', 'ee', 'ee', 'ee', 'ee', 'ee', 'ee', 'ee', 'ee', 'e-']\n"
     ]
    }
   ],
   "source": [
    "test(\"EEEEEEEeeeEE\")\n",
    "test(\"eeeeeeeee\")"
   ]
  },
  {
   "cell_type": "code",
   "execution_count": 575,
   "metadata": {},
   "outputs": [
    {
     "name": "stdout",
     "output_type": "stream",
     "text": [
      "['-f', 'fE', 'EE', 'Ef', 'fE', 'EE', 'E-']\n"
     ]
    }
   ],
   "source": [
    "test(\"fEEfEE\")"
   ]
  },
  {
   "cell_type": "code",
   "execution_count": 576,
   "metadata": {},
   "outputs": [
    {
     "name": "stdout",
     "output_type": "stream",
     "text": [
      "['-m', 'mE', 'Ef', 'fe', 'e-']\n",
      "['-m', 'mE', 'Ef', 'fe', 'em', 'mE', 'E-']\n"
     ]
    }
   ],
   "source": [
    "test(\"mEfe\")\n",
    "test(\"mEfemE\")"
   ]
  },
  {
   "cell_type": "code",
   "execution_count": 577,
   "metadata": {},
   "outputs": [
    {
     "name": "stdout",
     "output_type": "stream",
     "text": [
      "['-s', 'sE', 'E-']\n",
      "['-s', 'sE', 'Ef', 'fE', 'E-']\n",
      "['-s', 'sE', 'Ek', 'ke', 'e-']\n"
     ]
    }
   ],
   "source": [
    "test(\"sE\")\n",
    "test(\"sEfE\")\n",
    "test(\"sEke\")"
   ]
  },
  {
   "cell_type": "code",
   "execution_count": 578,
   "metadata": {},
   "outputs": [
    {
     "name": "stdout",
     "output_type": "stream",
     "text": [
      "['-t', 'tE', 'E-']\n",
      "['-t', 'tE', 'Ef', 'fE', 'E-']\n",
      "['-t', 'tE', 'Ek', 'kE', 'E-']\n",
      "['-e', 'et', 'tE', 'Ek', 'kE', 'E-']\n"
     ]
    }
   ],
   "source": [
    "test(\"tE\")\n",
    "test(\"tEfE\")\n",
    "test(\"tEkE\")\n",
    "test(\"etEkE\")"
   ]
  },
  {
   "cell_type": "code",
   "execution_count": 579,
   "metadata": {},
   "outputs": [
    {
     "name": "stdout",
     "output_type": "stream",
     "text": [
      "['-e', 'er', 'rE', 'E-']\n",
      "['-e', 'er', 'rE', 'Ef', 'fE', 'E-']\n",
      "['-e', 'er', 'rE', 'Ek', 'kE', 'E-']\n",
      "['-e', 'er', 'rE', 'Ek', 'kE', 'E-']\n"
     ]
    }
   ],
   "source": [
    "test(\"erE\")\n",
    "test(\"erEfE\")\n",
    "test(\"erEkE\")\n",
    "test(\"erEkE\")"
   ]
  },
  {
   "cell_type": "code",
   "execution_count": 580,
   "metadata": {},
   "outputs": [
    {
     "name": "stdout",
     "output_type": "stream",
     "text": [
      "['-e', 'er', 'rE', 'Em', 'me', 'e-']\n",
      "['-e', 'er', 'rE', 'Em', 'mE', 'E-']\n",
      "['-e', 'er', 're', 'em', 'me', 'e-']\n",
      "['-e', 'er', 'rE', 'Em', 'me', 'ef', 'fe', 'e-']\n"
     ]
    }
   ],
   "source": [
    "test(\"erEme\")\n",
    "test(\"erEmE\")\n",
    "test(\"ereme\")\n",
    "test(\"erEmefe\")"
   ]
  },
  {
   "cell_type": "code",
   "execution_count": 581,
   "metadata": {},
   "outputs": [
    {
     "name": "stdout",
     "output_type": "stream",
     "text": [
      "['-e', 'er', 'rE', 'Es', 'se', 'e-']\n",
      "['-e', 'er', 'rE', 'Es', 'sE', 'E-']\n",
      "['-e', 'er', 're', 'es', 'se', 'e-']\n",
      "['-e', 'er', 'rE', 'Es', 'se', 'ef', 'fe', 'e-']\n"
     ]
    }
   ],
   "source": [
    "test(\"erEse\")\n",
    "test(\"erEsE\")\n",
    "test(\"erese\")\n",
    "test(\"erEsefe\")"
   ]
  },
  {
   "cell_type": "code",
   "execution_count": 100,
   "metadata": {},
   "outputs": [
    {
     "name": "stdout",
     "output_type": "stream",
     "text": [
      "['-e', 'er', 'rE', 'Er', 're', 'e-']\n",
      "['-e', 'er', 'rE', 'Er', 'rE', 'E-']\n",
      "['-e', 'er', 're', 'er', 're', 'e-']\n",
      "['-e', 'er', 'rE', 'Er', 're', 'ef', 'fe', 'e-']\n"
     ]
    }
   ],
   "source": [
    "test(\"erEre\")\n",
    "test(\"erErE\")\n",
    "test(\"erere\")\n",
    "test(\"erErefe\")"
   ]
  },
  {
   "cell_type": "code",
   "execution_count": null,
   "metadata": {},
   "outputs": [],
   "source": []
  }
 ],
 "metadata": {
  "kernelspec": {
   "display_name": "Python 3",
   "language": "python",
   "name": "python3"
  },
  "language_info": {
   "codemirror_mode": {
    "name": "ipython",
    "version": 3
   },
   "file_extension": ".py",
   "mimetype": "text/x-python",
   "name": "python",
   "nbconvert_exporter": "python",
   "pygments_lexer": "ipython3",
   "version": "3.7.4"
  }
 },
 "nbformat": 4,
 "nbformat_minor": 4
}
