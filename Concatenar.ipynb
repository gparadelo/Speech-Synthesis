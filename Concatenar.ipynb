{
 "cells": [
  {
   "cell_type": "code",
   "execution_count": 13,
   "metadata": {},
   "outputs": [],
   "source": [
    "import os\n",
    "from subprocess import Popen, PIPE\n",
    "import sys"
   ]
  },
  {
   "cell_type": "code",
   "execution_count": 15,
   "metadata": {},
   "outputs": [],
   "source": [
    "PRAAT= '/usr/bin/praat'\n",
    "\n",
    "def run_praat(script_file):\n",
    "    args= [PRAAT, '--run', script_file]\n",
    "    Popen(args, stdout=PIPE)"
   ]
  },
  {
   "cell_type": "markdown",
   "metadata": {},
   "source": [
    "Lista de archivos de audio - concatenar audio y escribir a archivo"
   ]
  },
  {
   "cell_type": "code",
   "execution_count": 32,
   "metadata": {},
   "outputs": [
    {
     "name": "stdout",
     "output_type": "stream",
     "text": [
      "None\n"
     ]
    }
   ],
   "source": [
    "def output_audio(filenames, output_name):\n",
    "\n",
    "    script = \"\"\n",
    "    for i, f in enumerate(filenames):\n",
    "        script += \"Read from file: \\\"\" + f + \"\\\"\\n\"\n",
    "        script += \"selectObject: \\\"Sound \" + f[-6:-4] + \"\\\"\\n\"\n",
    "        script += \"Rename: \\\"\" + f[-6:-4] + str(i) + \"\\\"\\n\"\n",
    "\n",
    "    script += \"selectObject: \\\"Sound \" + filenames[0][-6:-4] + str(0) + \"\\\"\\n\"\n",
    "    for i, f in enumerate(filenames[1:]):\n",
    "        script += \"plusObject: \\\"Sound \" + f[-6:-4] + str(i+1) + \"\\\"\\n\"\n",
    "\n",
    "    script += \"Concatenate recoverably\\n\"\n",
    "    script += \"selectObject: \\\"Sound chain\\\"\\n\"\n",
    "    script += \"Write to WAV file: \\\"\" + output_name + \"\\\"\\n\"\n",
    "    script += \"Save as text file: \\\"\" + output_name + \".TextGrid\\\"\\n\"\n",
    "\n",
    "    with open(\"concatenar.praat\", \"w\") as cf:\n",
    "        cf.write(script)\n",
    "\n",
    "    run_praat(\"concatenar.praat\")\n",
    "    os.remove(\"concatenar.praat\")\n",
    "\n",
    "print(output_audio([\"./Difonos/re.wav\", \"./Difonos/rE.wav\"], \"./file.wav\"))"
   ]
  },
  {
   "cell_type": "code",
   "execution_count": 33,
   "metadata": {},
   "outputs": [
    {
     "data": {
      "text/plain": [
       "['/home/user/ph/-e.wav',\n",
       " '/home/user/ph/er.wav',\n",
       " '/home/user/ph/re.wav',\n",
       " '/home/user/ph/ef.wav',\n",
       " '/home/user/ph/fe.wav',\n",
       " '/home/user/ph/es.wav',\n",
       " '/home/user/ph/s-.wav']"
      ]
     },
     "execution_count": 33,
     "metadata": {},
     "output_type": "execute_result"
    }
   ],
   "source": [
    "diphones = [\"-e\", \"-E\", \"-f\", \"-k\", \"-m\", \"-s\", \"-t\", \"e-\", \"E-\",\n",
    "           \"s-\", \"ee\", \"eE\", \"Ee\", \"EE\", \"fe\", \"fE\", \"ke\", \"kE\", \n",
    "           \"me\", \"mE\", \"se\", \"sE\", \"te\", \"tE\", \"re\", \"rE\", \"ef\",\n",
    "           \"Ef\", \"ek\", \"Ek\", \"em\", \"Em\", \"es\", \"Es\", \"et\", \"Et\",\n",
    "           \"er\", \"Er\", \"fr\", \"kr\", \"tr\", \"sf\", \"sk\", \"st\", \"ss\",\n",
    "           \"sm\"]\n",
    "prefixname = \"/home/user/ph/\"\n",
    "wavsufix = \".wav\"\n",
    "\n",
    "def diphone_list( word ):\n",
    "    diphone_list = []\n",
    "    word  = \"-\" + word + \"-\"\n",
    "    for i, _ in enumerate(word[:-1]):\n",
    "        diphone = word[i:i+2]\n",
    "        if not diphone in diphones:\n",
    "            print(\"ERROR: invalid word. Try again.\")\n",
    "            sys.exit(1)\n",
    "        diphone_list.append(diphone)\n",
    "\n",
    "    # agregar prefijo y sufijo\n",
    "    return list(map(lambda s: prefixname + s + wavsufix, diphone_list))\n",
    "\n",
    "diphone_list(\"erefes\")"
   ]
  }
 ],
 "metadata": {
  "kernelspec": {
   "display_name": "Python 3",
   "language": "python",
   "name": "python3"
  },
  "language_info": {
   "codemirror_mode": {
    "name": "ipython",
    "version": 3
   },
   "file_extension": ".py",
   "mimetype": "text/x-python",
   "name": "python",
   "nbconvert_exporter": "python",
   "pygments_lexer": "ipython3",
   "version": "3.7.4"
  }
 },
 "nbformat": 4,
 "nbformat_minor": 4
}
