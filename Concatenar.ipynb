{
 "cells": [
  {
   "cell_type": "code",
   "execution_count": 86,
   "metadata": {},
   "outputs": [],
   "source": [
    "import sys\n",
    "import os\n",
    "from subprocess import Popen, PIPE"
   ]
  },
  {
   "cell_type": "code",
   "execution_count": 103,
   "metadata": {},
   "outputs": [],
   "source": [
    "PRAAT= '/usr/bin/praat'\n",
    "\n",
    "def run_praat(script_file):\n",
    "    args= [PRAAT, '--run', script_file]\n",
    "    p = Popen(args, stdout=PIPE)\n",
    "    p.wait()"
   ]
  },
  {
   "cell_type": "markdown",
   "metadata": {},
   "source": [
    "Lista de archivos de audio - concatenar audio y escribir a archivo"
   ]
  },
  {
   "cell_type": "code",
   "execution_count": 108,
   "metadata": {},
   "outputs": [],
   "source": [
    "def output_audio(filenames, output_name):\n",
    "\n",
    "    script = \"\"\n",
    "    for i, f in enumerate(filenames):\n",
    "        script += \"Read from file: \\\"\" + f + \"\\\"\\n\"\n",
    "        script += \"selectObject: \\\"Sound \" + f[-6:-4] + \"\\\"\\n\"\n",
    "        script += \"Rename: \\\"\" + f[-6:-4] + str(i) + \"\\\"\\n\"\n",
    "\n",
    "    script += \"selectObject: \\\"Sound \" + filenames[0][-6:-4] + str(0) + \"\\\"\\n\"\n",
    "    for i, f in enumerate(filenames[1:]):\n",
    "        script += \"plusObject: \\\"Sound \" + f[-6:-4] + str(i+1) + \"\\\"\\n\"\n",
    "\n",
    "    script += \"Concatenate recoverably\\n\"\n",
    "    script += \"selectObject: \\\"Sound chain\\\"\\n\"\n",
    "    script += \"Write to WAV file: \\\"\" + output_name + \"\\\"\\n\"\n",
    "    script += \"Save as text file: \\\"\" + output_name + \".TextGrid\\\"\\n\"\n",
    "\n",
    "    with open(\"concatenar.praat\", \"w\") as cf:\n",
    "        cf.write(script)\n",
    "\n",
    "    run_praat(\"concatenar.praat\")\n",
    "    os.remove(\"concatenar.praat\")\n",
    "\n",
    "# output_audio([\"./Difonos/re.wav\", \"./Difonos/rE.wav\"], \"./file.wav\")"
   ]
  },
  {
   "cell_type": "markdown",
   "metadata": {},
   "source": [
    "Obtener lista de difonos a partir de una palabra"
   ]
  },
  {
   "cell_type": "code",
   "execution_count": 109,
   "metadata": {},
   "outputs": [
    {
     "data": {
      "text/plain": [
       "['/home/aletg/Codigo/PH/tp1/ph-tp1/Difonos/-e.wav',\n",
       " '/home/aletg/Codigo/PH/tp1/ph-tp1/Difonos/er.wav',\n",
       " '/home/aletg/Codigo/PH/tp1/ph-tp1/Difonos/re.wav',\n",
       " '/home/aletg/Codigo/PH/tp1/ph-tp1/Difonos/ef.wav',\n",
       " '/home/aletg/Codigo/PH/tp1/ph-tp1/Difonos/fe.wav',\n",
       " '/home/aletg/Codigo/PH/tp1/ph-tp1/Difonos/es.wav',\n",
       " '/home/aletg/Codigo/PH/tp1/ph-tp1/Difonos/s-.wav']"
      ]
     },
     "execution_count": 109,
     "metadata": {},
     "output_type": "execute_result"
    }
   ],
   "source": [
    "diphones = [\"-e\", \"-E\", \"-f\", \"-k\", \"-m\", \"-s\", \"-t\", \"e-\", \"E-\",\n",
    "           \"s-\", \"ee\", \"eE\", \"Ee\", \"EE\", \"fe\", \"fE\", \"ke\", \"kE\", \n",
    "           \"me\", \"mE\", \"se\", \"sE\", \"te\", \"tE\", \"re\", \"rE\", \"ef\",\n",
    "           \"Ef\", \"ek\", \"Ek\", \"em\", \"Em\", \"es\", \"Es\", \"et\", \"Et\",\n",
    "           \"er\", \"Er\", \"fr\", \"kr\", \"tr\", \"sf\", \"sk\", \"st\", \"ss\",\n",
    "           \"sm\"]\n",
    "\n",
    "diphone_folder = \"/home/aletg/Codigo/PH/tp1/ph-tp1/Difonos/\"\n",
    "wavsufix = \".wav\"\n",
    "\n",
    "def diphone_list(word):\n",
    "    diphone_list = []\n",
    "    word  = \"-\" + word + \"-\"\n",
    "    for i, _ in enumerate(word[:-1]):\n",
    "        diphone = word[i:i+2]\n",
    "        if not diphone in diphones:\n",
    "            print(\"ERROR: invalid word. Try again.\")\n",
    "            sys.exit(1)\n",
    "        diphone_list.append(diphone)\n",
    "\n",
    "    # agregar prefijo y sufijo\n",
    "    return list(map(lambda s: diphone_folder + s + wavsufix, diphone_list))\n",
    "\n",
    "diphone_list(\"erefes\")"
   ]
  },
  {
   "cell_type": "code",
   "execution_count": 110,
   "metadata": {},
   "outputs": [],
   "source": [
    "def tts(word, output_filename):\n",
    "    output_audio(diphone_list(word), output_filename)"
   ]
  },
  {
   "cell_type": "markdown",
   "metadata": {},
   "source": [
    "Ejemplo de ejecución del TTS"
   ]
  },
  {
   "cell_type": "code",
   "execution_count": 111,
   "metadata": {},
   "outputs": [],
   "source": [
    "tts(\"erE\", \"./output.wav\")"
   ]
  },
  {
   "cell_type": "code",
   "execution_count": null,
   "metadata": {},
   "outputs": [],
   "source": []
  }
 ],
 "metadata": {
  "kernelspec": {
   "display_name": "Python 3",
   "language": "python",
   "name": "python3"
  },
  "language_info": {
   "codemirror_mode": {
    "name": "ipython",
    "version": 3
   },
   "file_extension": ".py",
   "mimetype": "text/x-python",
   "name": "python",
   "nbconvert_exporter": "python",
   "pygments_lexer": "ipython3",
   "version": "3.7.4"
  }
 },
 "nbformat": 4,
 "nbformat_minor": 4
}
